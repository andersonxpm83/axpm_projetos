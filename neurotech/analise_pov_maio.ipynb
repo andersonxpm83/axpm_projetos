{
 "cells": [
  {
   "cell_type": "code",
   "execution_count": 1,
   "id": "1694fe41-580e-498d-8718-79539e9edaeb",
   "metadata": {},
   "outputs": [
    {
     "ename": "ModuleNotFoundError",
     "evalue": "No module named 'pandas'",
     "output_type": "error",
     "traceback": [
      "\u001b[1;31m---------------------------------------------------------------------------\u001b[0m",
      "\u001b[1;31mModuleNotFoundError\u001b[0m                       Traceback (most recent call last)",
      "Cell \u001b[1;32mIn[1], line 2\u001b[0m\n\u001b[0;32m      1\u001b[0m \u001b[38;5;124m\"\u001b[39m\u001b[38;5;124mfrom golden import *\u001b[39m\u001b[38;5;124m\"\u001b[39m\n\u001b[1;32m----> 2\u001b[0m \u001b[38;5;28;01mimport\u001b[39;00m \u001b[38;5;21;01mpandas\u001b[39;00m \u001b[38;5;28;01mas\u001b[39;00m \u001b[38;5;21;01mpd\u001b[39;00m\n\u001b[0;32m      3\u001b[0m \u001b[38;5;28;01mimport\u001b[39;00m \u001b[38;5;21;01mnumpy\u001b[39;00m \u001b[38;5;28;01mas\u001b[39;00m \u001b[38;5;21;01mnp\u001b[39;00m\n",
      "\u001b[1;31mModuleNotFoundError\u001b[0m: No module named 'pandas'"
     ]
    }
   ],
   "source": [
    "\"from golden import *\"\n",
    "import pandas as pd\n",
    "import numpy as np"
   ]
  },
  {
   "cell_type": "markdown",
   "id": "c5589d19-d980-4b84-8d0c-c0e16e948874",
   "metadata": {},
   "source": [
    "# Objetivo\n",
    "- A ideia dessa análise é verificar os resultados prévios da POV que rodamos em Maio/2024 para compreender se existe alguma melhoria necessária para rodar o processo em Junho/2024"
   ]
  },
  {
   "cell_type": "markdown",
   "id": "e35c970a-071e-482e-a80d-91e95cfb64a6",
   "metadata": {
    "jp-MarkdownHeadingCollapsed": true
   },
   "source": [
    "#### Carregando procedimentos auditados (Processo Neurotech)\n",
    "- Aqui faremos as cargas das planilhas que enviamos para o time de auditoria auditar de acordo com a priorização da neurotech"
   ]
  },
  {
   "cell_type": "code",
   "execution_count": 4,
   "id": "104ebcd6-f97e-4412-ac75-9087566bb444",
   "metadata": {},
   "outputs": [
    {
     "ename": "FileNotFoundError",
     "evalue": "[Errno 2] No such file or directory: '/mnt/c/Users/iago.louzado/Downloads/neurotech_pov_1.csv'",
     "output_type": "error",
     "traceback": [
      "\u001b[1;31m---------------------------------------------------------------------------\u001b[0m",
      "\u001b[1;31mFileNotFoundError\u001b[0m                         Traceback (most recent call last)",
      "Cell \u001b[1;32mIn[4], line 1\u001b[0m\n\u001b[1;32m----> 1\u001b[0m df_pov_1 \u001b[38;5;241m=\u001b[39m \u001b[43mpd\u001b[49m\u001b[38;5;241;43m.\u001b[39;49m\u001b[43mread_csv\u001b[49m\u001b[43m(\u001b[49m\u001b[38;5;124;43m'\u001b[39;49m\u001b[38;5;124;43m/mnt/c/Users/iago.louzado/Downloads/neurotech_pov_1.csv\u001b[39;49m\u001b[38;5;124;43m'\u001b[39;49m\u001b[43m)\u001b[49m\n",
      "File \u001b[1;32mc:\\Users\\anderson.paiva\\AppData\\Local\\Programs\\Python\\Python311\\Lib\\site-packages\\pandas\\io\\parsers\\readers.py:912\u001b[0m, in \u001b[0;36mread_csv\u001b[1;34m(filepath_or_buffer, sep, delimiter, header, names, index_col, usecols, dtype, engine, converters, true_values, false_values, skipinitialspace, skiprows, skipfooter, nrows, na_values, keep_default_na, na_filter, verbose, skip_blank_lines, parse_dates, infer_datetime_format, keep_date_col, date_parser, date_format, dayfirst, cache_dates, iterator, chunksize, compression, thousands, decimal, lineterminator, quotechar, quoting, doublequote, escapechar, comment, encoding, encoding_errors, dialect, on_bad_lines, delim_whitespace, low_memory, memory_map, float_precision, storage_options, dtype_backend)\u001b[0m\n\u001b[0;32m    899\u001b[0m kwds_defaults \u001b[38;5;241m=\u001b[39m _refine_defaults_read(\n\u001b[0;32m    900\u001b[0m     dialect,\n\u001b[0;32m    901\u001b[0m     delimiter,\n\u001b[1;32m   (...)\u001b[0m\n\u001b[0;32m    908\u001b[0m     dtype_backend\u001b[38;5;241m=\u001b[39mdtype_backend,\n\u001b[0;32m    909\u001b[0m )\n\u001b[0;32m    910\u001b[0m kwds\u001b[38;5;241m.\u001b[39mupdate(kwds_defaults)\n\u001b[1;32m--> 912\u001b[0m \u001b[38;5;28;01mreturn\u001b[39;00m \u001b[43m_read\u001b[49m\u001b[43m(\u001b[49m\u001b[43mfilepath_or_buffer\u001b[49m\u001b[43m,\u001b[49m\u001b[43m \u001b[49m\u001b[43mkwds\u001b[49m\u001b[43m)\u001b[49m\n",
      "File \u001b[1;32mc:\\Users\\anderson.paiva\\AppData\\Local\\Programs\\Python\\Python311\\Lib\\site-packages\\pandas\\io\\parsers\\readers.py:577\u001b[0m, in \u001b[0;36m_read\u001b[1;34m(filepath_or_buffer, kwds)\u001b[0m\n\u001b[0;32m    574\u001b[0m _validate_names(kwds\u001b[38;5;241m.\u001b[39mget(\u001b[38;5;124m\"\u001b[39m\u001b[38;5;124mnames\u001b[39m\u001b[38;5;124m\"\u001b[39m, \u001b[38;5;28;01mNone\u001b[39;00m))\n\u001b[0;32m    576\u001b[0m \u001b[38;5;66;03m# Create the parser.\u001b[39;00m\n\u001b[1;32m--> 577\u001b[0m parser \u001b[38;5;241m=\u001b[39m \u001b[43mTextFileReader\u001b[49m\u001b[43m(\u001b[49m\u001b[43mfilepath_or_buffer\u001b[49m\u001b[43m,\u001b[49m\u001b[43m \u001b[49m\u001b[38;5;241;43m*\u001b[39;49m\u001b[38;5;241;43m*\u001b[39;49m\u001b[43mkwds\u001b[49m\u001b[43m)\u001b[49m\n\u001b[0;32m    579\u001b[0m \u001b[38;5;28;01mif\u001b[39;00m chunksize \u001b[38;5;129;01mor\u001b[39;00m iterator:\n\u001b[0;32m    580\u001b[0m     \u001b[38;5;28;01mreturn\u001b[39;00m parser\n",
      "File \u001b[1;32mc:\\Users\\anderson.paiva\\AppData\\Local\\Programs\\Python\\Python311\\Lib\\site-packages\\pandas\\io\\parsers\\readers.py:1407\u001b[0m, in \u001b[0;36mTextFileReader.__init__\u001b[1;34m(self, f, engine, **kwds)\u001b[0m\n\u001b[0;32m   1404\u001b[0m     \u001b[38;5;28mself\u001b[39m\u001b[38;5;241m.\u001b[39moptions[\u001b[38;5;124m\"\u001b[39m\u001b[38;5;124mhas_index_names\u001b[39m\u001b[38;5;124m\"\u001b[39m] \u001b[38;5;241m=\u001b[39m kwds[\u001b[38;5;124m\"\u001b[39m\u001b[38;5;124mhas_index_names\u001b[39m\u001b[38;5;124m\"\u001b[39m]\n\u001b[0;32m   1406\u001b[0m \u001b[38;5;28mself\u001b[39m\u001b[38;5;241m.\u001b[39mhandles: IOHandles \u001b[38;5;241m|\u001b[39m \u001b[38;5;28;01mNone\u001b[39;00m \u001b[38;5;241m=\u001b[39m \u001b[38;5;28;01mNone\u001b[39;00m\n\u001b[1;32m-> 1407\u001b[0m \u001b[38;5;28mself\u001b[39m\u001b[38;5;241m.\u001b[39m_engine \u001b[38;5;241m=\u001b[39m \u001b[38;5;28;43mself\u001b[39;49m\u001b[38;5;241;43m.\u001b[39;49m\u001b[43m_make_engine\u001b[49m\u001b[43m(\u001b[49m\u001b[43mf\u001b[49m\u001b[43m,\u001b[49m\u001b[43m \u001b[49m\u001b[38;5;28;43mself\u001b[39;49m\u001b[38;5;241;43m.\u001b[39;49m\u001b[43mengine\u001b[49m\u001b[43m)\u001b[49m\n",
      "File \u001b[1;32mc:\\Users\\anderson.paiva\\AppData\\Local\\Programs\\Python\\Python311\\Lib\\site-packages\\pandas\\io\\parsers\\readers.py:1661\u001b[0m, in \u001b[0;36mTextFileReader._make_engine\u001b[1;34m(self, f, engine)\u001b[0m\n\u001b[0;32m   1659\u001b[0m     \u001b[38;5;28;01mif\u001b[39;00m \u001b[38;5;124m\"\u001b[39m\u001b[38;5;124mb\u001b[39m\u001b[38;5;124m\"\u001b[39m \u001b[38;5;129;01mnot\u001b[39;00m \u001b[38;5;129;01min\u001b[39;00m mode:\n\u001b[0;32m   1660\u001b[0m         mode \u001b[38;5;241m+\u001b[39m\u001b[38;5;241m=\u001b[39m \u001b[38;5;124m\"\u001b[39m\u001b[38;5;124mb\u001b[39m\u001b[38;5;124m\"\u001b[39m\n\u001b[1;32m-> 1661\u001b[0m \u001b[38;5;28mself\u001b[39m\u001b[38;5;241m.\u001b[39mhandles \u001b[38;5;241m=\u001b[39m \u001b[43mget_handle\u001b[49m\u001b[43m(\u001b[49m\n\u001b[0;32m   1662\u001b[0m \u001b[43m    \u001b[49m\u001b[43mf\u001b[49m\u001b[43m,\u001b[49m\n\u001b[0;32m   1663\u001b[0m \u001b[43m    \u001b[49m\u001b[43mmode\u001b[49m\u001b[43m,\u001b[49m\n\u001b[0;32m   1664\u001b[0m \u001b[43m    \u001b[49m\u001b[43mencoding\u001b[49m\u001b[38;5;241;43m=\u001b[39;49m\u001b[38;5;28;43mself\u001b[39;49m\u001b[38;5;241;43m.\u001b[39;49m\u001b[43moptions\u001b[49m\u001b[38;5;241;43m.\u001b[39;49m\u001b[43mget\u001b[49m\u001b[43m(\u001b[49m\u001b[38;5;124;43m\"\u001b[39;49m\u001b[38;5;124;43mencoding\u001b[39;49m\u001b[38;5;124;43m\"\u001b[39;49m\u001b[43m,\u001b[49m\u001b[43m \u001b[49m\u001b[38;5;28;43;01mNone\u001b[39;49;00m\u001b[43m)\u001b[49m\u001b[43m,\u001b[49m\n\u001b[0;32m   1665\u001b[0m \u001b[43m    \u001b[49m\u001b[43mcompression\u001b[49m\u001b[38;5;241;43m=\u001b[39;49m\u001b[38;5;28;43mself\u001b[39;49m\u001b[38;5;241;43m.\u001b[39;49m\u001b[43moptions\u001b[49m\u001b[38;5;241;43m.\u001b[39;49m\u001b[43mget\u001b[49m\u001b[43m(\u001b[49m\u001b[38;5;124;43m\"\u001b[39;49m\u001b[38;5;124;43mcompression\u001b[39;49m\u001b[38;5;124;43m\"\u001b[39;49m\u001b[43m,\u001b[49m\u001b[43m \u001b[49m\u001b[38;5;28;43;01mNone\u001b[39;49;00m\u001b[43m)\u001b[49m\u001b[43m,\u001b[49m\n\u001b[0;32m   1666\u001b[0m \u001b[43m    \u001b[49m\u001b[43mmemory_map\u001b[49m\u001b[38;5;241;43m=\u001b[39;49m\u001b[38;5;28;43mself\u001b[39;49m\u001b[38;5;241;43m.\u001b[39;49m\u001b[43moptions\u001b[49m\u001b[38;5;241;43m.\u001b[39;49m\u001b[43mget\u001b[49m\u001b[43m(\u001b[49m\u001b[38;5;124;43m\"\u001b[39;49m\u001b[38;5;124;43mmemory_map\u001b[39;49m\u001b[38;5;124;43m\"\u001b[39;49m\u001b[43m,\u001b[49m\u001b[43m \u001b[49m\u001b[38;5;28;43;01mFalse\u001b[39;49;00m\u001b[43m)\u001b[49m\u001b[43m,\u001b[49m\n\u001b[0;32m   1667\u001b[0m \u001b[43m    \u001b[49m\u001b[43mis_text\u001b[49m\u001b[38;5;241;43m=\u001b[39;49m\u001b[43mis_text\u001b[49m\u001b[43m,\u001b[49m\n\u001b[0;32m   1668\u001b[0m \u001b[43m    \u001b[49m\u001b[43merrors\u001b[49m\u001b[38;5;241;43m=\u001b[39;49m\u001b[38;5;28;43mself\u001b[39;49m\u001b[38;5;241;43m.\u001b[39;49m\u001b[43moptions\u001b[49m\u001b[38;5;241;43m.\u001b[39;49m\u001b[43mget\u001b[49m\u001b[43m(\u001b[49m\u001b[38;5;124;43m\"\u001b[39;49m\u001b[38;5;124;43mencoding_errors\u001b[39;49m\u001b[38;5;124;43m\"\u001b[39;49m\u001b[43m,\u001b[49m\u001b[43m \u001b[49m\u001b[38;5;124;43m\"\u001b[39;49m\u001b[38;5;124;43mstrict\u001b[39;49m\u001b[38;5;124;43m\"\u001b[39;49m\u001b[43m)\u001b[49m\u001b[43m,\u001b[49m\n\u001b[0;32m   1669\u001b[0m \u001b[43m    \u001b[49m\u001b[43mstorage_options\u001b[49m\u001b[38;5;241;43m=\u001b[39;49m\u001b[38;5;28;43mself\u001b[39;49m\u001b[38;5;241;43m.\u001b[39;49m\u001b[43moptions\u001b[49m\u001b[38;5;241;43m.\u001b[39;49m\u001b[43mget\u001b[49m\u001b[43m(\u001b[49m\u001b[38;5;124;43m\"\u001b[39;49m\u001b[38;5;124;43mstorage_options\u001b[39;49m\u001b[38;5;124;43m\"\u001b[39;49m\u001b[43m,\u001b[49m\u001b[43m \u001b[49m\u001b[38;5;28;43;01mNone\u001b[39;49;00m\u001b[43m)\u001b[49m\u001b[43m,\u001b[49m\n\u001b[0;32m   1670\u001b[0m \u001b[43m\u001b[49m\u001b[43m)\u001b[49m\n\u001b[0;32m   1671\u001b[0m \u001b[38;5;28;01massert\u001b[39;00m \u001b[38;5;28mself\u001b[39m\u001b[38;5;241m.\u001b[39mhandles \u001b[38;5;129;01mis\u001b[39;00m \u001b[38;5;129;01mnot\u001b[39;00m \u001b[38;5;28;01mNone\u001b[39;00m\n\u001b[0;32m   1672\u001b[0m f \u001b[38;5;241m=\u001b[39m \u001b[38;5;28mself\u001b[39m\u001b[38;5;241m.\u001b[39mhandles\u001b[38;5;241m.\u001b[39mhandle\n",
      "File \u001b[1;32mc:\\Users\\anderson.paiva\\AppData\\Local\\Programs\\Python\\Python311\\Lib\\site-packages\\pandas\\io\\common.py:859\u001b[0m, in \u001b[0;36mget_handle\u001b[1;34m(path_or_buf, mode, encoding, compression, memory_map, is_text, errors, storage_options)\u001b[0m\n\u001b[0;32m    854\u001b[0m \u001b[38;5;28;01melif\u001b[39;00m \u001b[38;5;28misinstance\u001b[39m(handle, \u001b[38;5;28mstr\u001b[39m):\n\u001b[0;32m    855\u001b[0m     \u001b[38;5;66;03m# Check whether the filename is to be opened in binary mode.\u001b[39;00m\n\u001b[0;32m    856\u001b[0m     \u001b[38;5;66;03m# Binary mode does not support 'encoding' and 'newline'.\u001b[39;00m\n\u001b[0;32m    857\u001b[0m     \u001b[38;5;28;01mif\u001b[39;00m ioargs\u001b[38;5;241m.\u001b[39mencoding \u001b[38;5;129;01mand\u001b[39;00m \u001b[38;5;124m\"\u001b[39m\u001b[38;5;124mb\u001b[39m\u001b[38;5;124m\"\u001b[39m \u001b[38;5;129;01mnot\u001b[39;00m \u001b[38;5;129;01min\u001b[39;00m ioargs\u001b[38;5;241m.\u001b[39mmode:\n\u001b[0;32m    858\u001b[0m         \u001b[38;5;66;03m# Encoding\u001b[39;00m\n\u001b[1;32m--> 859\u001b[0m         handle \u001b[38;5;241m=\u001b[39m \u001b[38;5;28;43mopen\u001b[39;49m\u001b[43m(\u001b[49m\n\u001b[0;32m    860\u001b[0m \u001b[43m            \u001b[49m\u001b[43mhandle\u001b[49m\u001b[43m,\u001b[49m\n\u001b[0;32m    861\u001b[0m \u001b[43m            \u001b[49m\u001b[43mioargs\u001b[49m\u001b[38;5;241;43m.\u001b[39;49m\u001b[43mmode\u001b[49m\u001b[43m,\u001b[49m\n\u001b[0;32m    862\u001b[0m \u001b[43m            \u001b[49m\u001b[43mencoding\u001b[49m\u001b[38;5;241;43m=\u001b[39;49m\u001b[43mioargs\u001b[49m\u001b[38;5;241;43m.\u001b[39;49m\u001b[43mencoding\u001b[49m\u001b[43m,\u001b[49m\n\u001b[0;32m    863\u001b[0m \u001b[43m            \u001b[49m\u001b[43merrors\u001b[49m\u001b[38;5;241;43m=\u001b[39;49m\u001b[43merrors\u001b[49m\u001b[43m,\u001b[49m\n\u001b[0;32m    864\u001b[0m \u001b[43m            \u001b[49m\u001b[43mnewline\u001b[49m\u001b[38;5;241;43m=\u001b[39;49m\u001b[38;5;124;43m\"\u001b[39;49m\u001b[38;5;124;43m\"\u001b[39;49m\u001b[43m,\u001b[49m\n\u001b[0;32m    865\u001b[0m \u001b[43m        \u001b[49m\u001b[43m)\u001b[49m\n\u001b[0;32m    866\u001b[0m     \u001b[38;5;28;01melse\u001b[39;00m:\n\u001b[0;32m    867\u001b[0m         \u001b[38;5;66;03m# Binary mode\u001b[39;00m\n\u001b[0;32m    868\u001b[0m         handle \u001b[38;5;241m=\u001b[39m \u001b[38;5;28mopen\u001b[39m(handle, ioargs\u001b[38;5;241m.\u001b[39mmode)\n",
      "\u001b[1;31mFileNotFoundError\u001b[0m: [Errno 2] No such file or directory: '/mnt/c/Users/iago.louzado/Downloads/neurotech_pov_1.csv'"
     ]
    }
   ],
   "source": [
    "df_pov_1 = pd.read_csv('/mnt/c/Users/iago.louzado/Downloads/neurotech_pov_1.csv')"
   ]
  },
  {
   "cell_type": "code",
   "execution_count": 3,
   "id": "cab66663-fa02-4209-96f8-54fcd40164be",
   "metadata": {},
   "outputs": [],
   "source": [
    "df_pov_2 = pd.read_csv('/mnt/c/Users/iago.louzado/Downloads/neurotech_pov_2.csv') "
   ]
  },
  {
   "cell_type": "code",
   "execution_count": 28,
   "id": "add455a3-b1ca-455d-a05c-b125488d9dce",
   "metadata": {},
   "outputs": [
    {
     "name": "stdout",
     "output_type": "stream",
     "text": [
      "<class 'pandas.core.frame.DataFrame'>\n",
      "RangeIndex: 4811 entries, 0 to 4810\n",
      "Data columns (total 10 columns):\n",
      " #   Column             Non-Null Count  Dtype  \n",
      "---  ------             --------------  -----  \n",
      " 0   SCORE              4811 non-null   float64\n",
      " 1   ID_EVENTO          4811 non-null   int64  \n",
      " 2   ID_ATENDIMENTO     4811 non-null   int64  \n",
      " 3   DATA_SOLICITACAO   4811 non-null   object \n",
      " 4   NOME_PROCEDIMENTO  4811 non-null   object \n",
      " 5   VL_REPASSE         4811 non-null   float64\n",
      " 6   FL_ANALISAR        4811 non-null   int64  \n",
      " 7   EXPECTATIVA_GLOSA  4811 non-null   float64\n",
      " 8   FL_AUDITADO        4811 non-null   bool   \n",
      " 9   PREV ANALISADO     4811 non-null   bool   \n",
      "dtypes: bool(2), float64(3), int64(3), object(2)\n",
      "memory usage: 310.2+ KB\n"
     ]
    }
   ],
   "source": [
    "df_pov_1.info()"
   ]
  },
  {
   "cell_type": "code",
   "execution_count": 29,
   "id": "b5eb270b-78ed-48f0-bd44-d166f6397bf6",
   "metadata": {},
   "outputs": [
    {
     "name": "stdout",
     "output_type": "stream",
     "text": [
      "<class 'pandas.core.frame.DataFrame'>\n",
      "RangeIndex: 5046 entries, 0 to 5045\n",
      "Data columns (total 11 columns):\n",
      " #   Column                 Non-Null Count  Dtype  \n",
      "---  ------                 --------------  -----  \n",
      " 0   SCORE                  5046 non-null   float64\n",
      " 1   ID_EVENTO              5046 non-null   int64  \n",
      " 2   ID_ATENDIMENTO         5046 non-null   int64  \n",
      " 3   DATA_SOLICITACAO       5046 non-null   object \n",
      " 4   NOME_PROCEDIMENTO      5046 non-null   object \n",
      " 5   VL_REPASSE             5046 non-null   float64\n",
      " 6   FL_CAIU_REGRA_SISTEMA  5046 non-null   int64  \n",
      " 7   FL_ANALISAR            5046 non-null   int64  \n",
      " 8   EXPECTATIVA_GLOSA      5046 non-null   float64\n",
      " 9   FL_AUDITADO            5046 non-null   bool   \n",
      " 10  PREV ANALISADO         5046 non-null   bool   \n",
      "dtypes: bool(2), float64(3), int64(4), object(2)\n",
      "memory usage: 364.8+ KB\n"
     ]
    }
   ],
   "source": [
    "df_pov_2.info()"
   ]
  },
  {
   "cell_type": "code",
   "execution_count": 6,
   "id": "22de4ef7-1989-47bf-be8c-bc81c5b5aece",
   "metadata": {},
   "outputs": [
    {
     "data": {
      "text/html": [
       "<div>\n",
       "<style scoped>\n",
       "    .dataframe tbody tr th:only-of-type {\n",
       "        vertical-align: middle;\n",
       "    }\n",
       "\n",
       "    .dataframe tbody tr th {\n",
       "        vertical-align: top;\n",
       "    }\n",
       "\n",
       "    .dataframe thead th {\n",
       "        text-align: right;\n",
       "    }\n",
       "</style>\n",
       "<table border=\"1\" class=\"dataframe\">\n",
       "  <thead>\n",
       "    <tr style=\"text-align: right;\">\n",
       "      <th></th>\n",
       "      <th>SCORE</th>\n",
       "      <th>ID_EVENTO</th>\n",
       "      <th>ID_ATENDIMENTO</th>\n",
       "      <th>DATA_SOLICITACAO</th>\n",
       "      <th>NOME_PROCEDIMENTO</th>\n",
       "      <th>VL_REPASSE</th>\n",
       "      <th>FL_ANALISAR</th>\n",
       "      <th>EXPECTATIVA_GLOSA</th>\n",
       "      <th>FL_AUDITADO</th>\n",
       "      <th>PREV ANALISADO</th>\n",
       "    </tr>\n",
       "  </thead>\n",
       "  <tbody>\n",
       "    <tr>\n",
       "      <th>0</th>\n",
       "      <td>0.714491</td>\n",
       "      <td>6618943</td>\n",
       "      <td>3154527</td>\n",
       "      <td>2024-05-14</td>\n",
       "      <td>Abdominocentese</td>\n",
       "      <td>99.00</td>\n",
       "      <td>1</td>\n",
       "      <td>70.7</td>\n",
       "      <td>False</td>\n",
       "      <td>True</td>\n",
       "    </tr>\n",
       "    <tr>\n",
       "      <th>1</th>\n",
       "      <td>0.837099</td>\n",
       "      <td>6619301</td>\n",
       "      <td>3154694</td>\n",
       "      <td>2024-05-14</td>\n",
       "      <td>Abdominocentese</td>\n",
       "      <td>55.00</td>\n",
       "      <td>1</td>\n",
       "      <td>46.0</td>\n",
       "      <td>True</td>\n",
       "      <td>False</td>\n",
       "    </tr>\n",
       "    <tr>\n",
       "      <th>2</th>\n",
       "      <td>0.784284</td>\n",
       "      <td>6488233</td>\n",
       "      <td>3091754</td>\n",
       "      <td>2024-05-07</td>\n",
       "      <td>Abdominocentese</td>\n",
       "      <td>54.50</td>\n",
       "      <td>1</td>\n",
       "      <td>42.7</td>\n",
       "      <td>True</td>\n",
       "      <td>False</td>\n",
       "    </tr>\n",
       "    <tr>\n",
       "      <th>3</th>\n",
       "      <td>0.614452</td>\n",
       "      <td>6628206</td>\n",
       "      <td>3158630</td>\n",
       "      <td>2024-05-15</td>\n",
       "      <td>Abdominocentese</td>\n",
       "      <td>48.20</td>\n",
       "      <td>1</td>\n",
       "      <td>29.6</td>\n",
       "      <td>True</td>\n",
       "      <td>False</td>\n",
       "    </tr>\n",
       "    <tr>\n",
       "      <th>4</th>\n",
       "      <td>0.667784</td>\n",
       "      <td>6605777</td>\n",
       "      <td>3147823</td>\n",
       "      <td>2024-05-14</td>\n",
       "      <td>Acesso intravenoso</td>\n",
       "      <td>14.16</td>\n",
       "      <td>1</td>\n",
       "      <td>9.5</td>\n",
       "      <td>True</td>\n",
       "      <td>False</td>\n",
       "    </tr>\n",
       "    <tr>\n",
       "      <th>...</th>\n",
       "      <td>...</td>\n",
       "      <td>...</td>\n",
       "      <td>...</td>\n",
       "      <td>...</td>\n",
       "      <td>...</td>\n",
       "      <td>...</td>\n",
       "      <td>...</td>\n",
       "      <td>...</td>\n",
       "      <td>...</td>\n",
       "      <td>...</td>\n",
       "    </tr>\n",
       "    <tr>\n",
       "      <th>4806</th>\n",
       "      <td>0.632064</td>\n",
       "      <td>6525161</td>\n",
       "      <td>3109674</td>\n",
       "      <td>2024-05-09</td>\n",
       "      <td>Vacina Tríplice (V3) / Quádrupla (V4)</td>\n",
       "      <td>30.00</td>\n",
       "      <td>1</td>\n",
       "      <td>19.0</td>\n",
       "      <td>False</td>\n",
       "      <td>False</td>\n",
       "    </tr>\n",
       "    <tr>\n",
       "      <th>4807</th>\n",
       "      <td>0.617600</td>\n",
       "      <td>6479341</td>\n",
       "      <td>3087403</td>\n",
       "      <td>2024-05-07</td>\n",
       "      <td>Vacina Tríplice (V3) / Quádrupla (V4)</td>\n",
       "      <td>30.40</td>\n",
       "      <td>1</td>\n",
       "      <td>18.8</td>\n",
       "      <td>False</td>\n",
       "      <td>False</td>\n",
       "    </tr>\n",
       "    <tr>\n",
       "      <th>4808</th>\n",
       "      <td>0.608172</td>\n",
       "      <td>6515047</td>\n",
       "      <td>3104890</td>\n",
       "      <td>2024-05-09</td>\n",
       "      <td>Vacina Tríplice (V3) / Quádrupla (V4)</td>\n",
       "      <td>30.00</td>\n",
       "      <td>1</td>\n",
       "      <td>18.2</td>\n",
       "      <td>False</td>\n",
       "      <td>False</td>\n",
       "    </tr>\n",
       "    <tr>\n",
       "      <th>4809</th>\n",
       "      <td>0.677181</td>\n",
       "      <td>6449839</td>\n",
       "      <td>3073643</td>\n",
       "      <td>2024-05-05</td>\n",
       "      <td>Vacina Tríplice (V3) / Quádrupla (V4)</td>\n",
       "      <td>23.00</td>\n",
       "      <td>1</td>\n",
       "      <td>15.6</td>\n",
       "      <td>False</td>\n",
       "      <td>False</td>\n",
       "    </tr>\n",
       "    <tr>\n",
       "      <th>4810</th>\n",
       "      <td>0.608386</td>\n",
       "      <td>6650795</td>\n",
       "      <td>3169736</td>\n",
       "      <td>2024-05-16</td>\n",
       "      <td>Vacina Tríplice (V3) / Quádrupla (V4)</td>\n",
       "      <td>13.00</td>\n",
       "      <td>1</td>\n",
       "      <td>7.9</td>\n",
       "      <td>False</td>\n",
       "      <td>False</td>\n",
       "    </tr>\n",
       "  </tbody>\n",
       "</table>\n",
       "<p>4811 rows × 10 columns</p>\n",
       "</div>"
      ],
      "text/plain": [
       "         SCORE  ID_EVENTO  ID_ATENDIMENTO DATA_SOLICITACAO  \\\n",
       "0     0.714491    6618943         3154527       2024-05-14   \n",
       "1     0.837099    6619301         3154694       2024-05-14   \n",
       "2     0.784284    6488233         3091754       2024-05-07   \n",
       "3     0.614452    6628206         3158630       2024-05-15   \n",
       "4     0.667784    6605777         3147823       2024-05-14   \n",
       "...        ...        ...             ...              ...   \n",
       "4806  0.632064    6525161         3109674       2024-05-09   \n",
       "4807  0.617600    6479341         3087403       2024-05-07   \n",
       "4808  0.608172    6515047         3104890       2024-05-09   \n",
       "4809  0.677181    6449839         3073643       2024-05-05   \n",
       "4810  0.608386    6650795         3169736       2024-05-16   \n",
       "\n",
       "                          NOME_PROCEDIMENTO  VL_REPASSE  FL_ANALISAR  \\\n",
       "0                           Abdominocentese       99.00            1   \n",
       "1                           Abdominocentese       55.00            1   \n",
       "2                           Abdominocentese       54.50            1   \n",
       "3                           Abdominocentese       48.20            1   \n",
       "4                        Acesso intravenoso       14.16            1   \n",
       "...                                     ...         ...          ...   \n",
       "4806  Vacina Tríplice (V3) / Quádrupla (V4)       30.00            1   \n",
       "4807  Vacina Tríplice (V3) / Quádrupla (V4)       30.40            1   \n",
       "4808  Vacina Tríplice (V3) / Quádrupla (V4)       30.00            1   \n",
       "4809  Vacina Tríplice (V3) / Quádrupla (V4)       23.00            1   \n",
       "4810  Vacina Tríplice (V3) / Quádrupla (V4)       13.00            1   \n",
       "\n",
       "      EXPECTATIVA_GLOSA  FL_AUDITADO  PREV ANALISADO  \n",
       "0                  70.7        False            True  \n",
       "1                  46.0         True           False  \n",
       "2                  42.7         True           False  \n",
       "3                  29.6         True           False  \n",
       "4                   9.5         True           False  \n",
       "...                 ...          ...             ...  \n",
       "4806               19.0        False           False  \n",
       "4807               18.8        False           False  \n",
       "4808               18.2        False           False  \n",
       "4809               15.6        False           False  \n",
       "4810                7.9        False           False  \n",
       "\n",
       "[4811 rows x 10 columns]"
      ]
     },
     "execution_count": 6,
     "metadata": {},
     "output_type": "execute_result"
    }
   ],
   "source": [
    "df_pov_1"
   ]
  },
  {
   "cell_type": "code",
   "execution_count": 7,
   "id": "1c21d342-cbe0-4ee9-88ed-942ccb2a0355",
   "metadata": {},
   "outputs": [
    {
     "data": {
      "text/html": [
       "<div>\n",
       "<style scoped>\n",
       "    .dataframe tbody tr th:only-of-type {\n",
       "        vertical-align: middle;\n",
       "    }\n",
       "\n",
       "    .dataframe tbody tr th {\n",
       "        vertical-align: top;\n",
       "    }\n",
       "\n",
       "    .dataframe thead th {\n",
       "        text-align: right;\n",
       "    }\n",
       "</style>\n",
       "<table border=\"1\" class=\"dataframe\">\n",
       "  <thead>\n",
       "    <tr style=\"text-align: right;\">\n",
       "      <th></th>\n",
       "      <th>SCORE</th>\n",
       "      <th>ID_EVENTO</th>\n",
       "      <th>ID_ATENDIMENTO</th>\n",
       "      <th>DATA_SOLICITACAO</th>\n",
       "      <th>NOME_PROCEDIMENTO</th>\n",
       "      <th>VL_REPASSE</th>\n",
       "      <th>FL_CAIU_REGRA_SISTEMA</th>\n",
       "      <th>FL_ANALISAR</th>\n",
       "      <th>EXPECTATIVA_GLOSA</th>\n",
       "      <th>FL_AUDITADO</th>\n",
       "      <th>PREV ANALISADO</th>\n",
       "    </tr>\n",
       "  </thead>\n",
       "  <tbody>\n",
       "    <tr>\n",
       "      <th>0</th>\n",
       "      <td>0.976067</td>\n",
       "      <td>6880252</td>\n",
       "      <td>3279864</td>\n",
       "      <td>2024-05-28</td>\n",
       "      <td>Curativo Simples</td>\n",
       "      <td>7.00</td>\n",
       "      <td>0</td>\n",
       "      <td>1</td>\n",
       "      <td>6.8</td>\n",
       "      <td>True</td>\n",
       "      <td>False</td>\n",
       "    </tr>\n",
       "    <tr>\n",
       "      <th>1</th>\n",
       "      <td>0.965685</td>\n",
       "      <td>6807888</td>\n",
       "      <td>3244700</td>\n",
       "      <td>2024-05-24</td>\n",
       "      <td>Soroterapia / Fluidoterapia (fisiológico, ring...</td>\n",
       "      <td>13.00</td>\n",
       "      <td>0</td>\n",
       "      <td>1</td>\n",
       "      <td>12.6</td>\n",
       "      <td>True</td>\n",
       "      <td>False</td>\n",
       "    </tr>\n",
       "    <tr>\n",
       "      <th>2</th>\n",
       "      <td>0.956384</td>\n",
       "      <td>6886814</td>\n",
       "      <td>3282764</td>\n",
       "      <td>2024-05-29</td>\n",
       "      <td>Aplicação de Injeção Subcutânea ou Intramuscul...</td>\n",
       "      <td>17.00</td>\n",
       "      <td>0</td>\n",
       "      <td>1</td>\n",
       "      <td>16.3</td>\n",
       "      <td>True</td>\n",
       "      <td>False</td>\n",
       "    </tr>\n",
       "    <tr>\n",
       "      <th>3</th>\n",
       "      <td>0.956384</td>\n",
       "      <td>6886812</td>\n",
       "      <td>3282764</td>\n",
       "      <td>2024-05-29</td>\n",
       "      <td>Aplicação de Injeção Subcutânea ou Intramuscul...</td>\n",
       "      <td>17.00</td>\n",
       "      <td>0</td>\n",
       "      <td>1</td>\n",
       "      <td>16.3</td>\n",
       "      <td>True</td>\n",
       "      <td>False</td>\n",
       "    </tr>\n",
       "    <tr>\n",
       "      <th>4</th>\n",
       "      <td>0.956384</td>\n",
       "      <td>6886813</td>\n",
       "      <td>3282764</td>\n",
       "      <td>2024-05-29</td>\n",
       "      <td>Aplicação de Injeção Subcutânea ou Intramuscul...</td>\n",
       "      <td>17.00</td>\n",
       "      <td>0</td>\n",
       "      <td>1</td>\n",
       "      <td>16.3</td>\n",
       "      <td>True</td>\n",
       "      <td>False</td>\n",
       "    </tr>\n",
       "    <tr>\n",
       "      <th>...</th>\n",
       "      <td>...</td>\n",
       "      <td>...</td>\n",
       "      <td>...</td>\n",
       "      <td>...</td>\n",
       "      <td>...</td>\n",
       "      <td>...</td>\n",
       "      <td>...</td>\n",
       "      <td>...</td>\n",
       "      <td>...</td>\n",
       "      <td>...</td>\n",
       "      <td>...</td>\n",
       "    </tr>\n",
       "    <tr>\n",
       "      <th>5041</th>\n",
       "      <td>0.600111</td>\n",
       "      <td>6898604</td>\n",
       "      <td>3288858</td>\n",
       "      <td>2024-05-29</td>\n",
       "      <td>Aplicação de Injeção Subcutânea ou Intramuscul...</td>\n",
       "      <td>6.19</td>\n",
       "      <td>0</td>\n",
       "      <td>1</td>\n",
       "      <td>3.7</td>\n",
       "      <td>False</td>\n",
       "      <td>False</td>\n",
       "    </tr>\n",
       "    <tr>\n",
       "      <th>5042</th>\n",
       "      <td>0.600111</td>\n",
       "      <td>6898603</td>\n",
       "      <td>3288858</td>\n",
       "      <td>2024-05-29</td>\n",
       "      <td>Aplicação de Injeção Subcutânea ou Intramuscul...</td>\n",
       "      <td>6.19</td>\n",
       "      <td>0</td>\n",
       "      <td>1</td>\n",
       "      <td>3.7</td>\n",
       "      <td>False</td>\n",
       "      <td>False</td>\n",
       "    </tr>\n",
       "    <tr>\n",
       "      <th>5043</th>\n",
       "      <td>0.600066</td>\n",
       "      <td>6716853</td>\n",
       "      <td>3200855</td>\n",
       "      <td>2024-05-20</td>\n",
       "      <td>Locação de sala para atendimento volante</td>\n",
       "      <td>15.00</td>\n",
       "      <td>0</td>\n",
       "      <td>1</td>\n",
       "      <td>9.0</td>\n",
       "      <td>False</td>\n",
       "      <td>False</td>\n",
       "    </tr>\n",
       "    <tr>\n",
       "      <th>5044</th>\n",
       "      <td>0.600018</td>\n",
       "      <td>6835470</td>\n",
       "      <td>3258185</td>\n",
       "      <td>2024-05-25</td>\n",
       "      <td>Consulta Plantão</td>\n",
       "      <td>75.52</td>\n",
       "      <td>0</td>\n",
       "      <td>1</td>\n",
       "      <td>45.3</td>\n",
       "      <td>False</td>\n",
       "      <td>False</td>\n",
       "    </tr>\n",
       "    <tr>\n",
       "      <th>5045</th>\n",
       "      <td>0.600001</td>\n",
       "      <td>6797083</td>\n",
       "      <td>3239523</td>\n",
       "      <td>2024-05-24</td>\n",
       "      <td>Colírio Anestésico unilateral</td>\n",
       "      <td>1.38</td>\n",
       "      <td>0</td>\n",
       "      <td>1</td>\n",
       "      <td>0.8</td>\n",
       "      <td>False</td>\n",
       "      <td>False</td>\n",
       "    </tr>\n",
       "  </tbody>\n",
       "</table>\n",
       "<p>5046 rows × 11 columns</p>\n",
       "</div>"
      ],
      "text/plain": [
       "         SCORE  ID_EVENTO  ID_ATENDIMENTO DATA_SOLICITACAO  \\\n",
       "0     0.976067    6880252         3279864       2024-05-28   \n",
       "1     0.965685    6807888         3244700       2024-05-24   \n",
       "2     0.956384    6886814         3282764       2024-05-29   \n",
       "3     0.956384    6886812         3282764       2024-05-29   \n",
       "4     0.956384    6886813         3282764       2024-05-29   \n",
       "...        ...        ...             ...              ...   \n",
       "5041  0.600111    6898604         3288858       2024-05-29   \n",
       "5042  0.600111    6898603         3288858       2024-05-29   \n",
       "5043  0.600066    6716853         3200855       2024-05-20   \n",
       "5044  0.600018    6835470         3258185       2024-05-25   \n",
       "5045  0.600001    6797083         3239523       2024-05-24   \n",
       "\n",
       "                                      NOME_PROCEDIMENTO  VL_REPASSE  \\\n",
       "0                                      Curativo Simples        7.00   \n",
       "1     Soroterapia / Fluidoterapia (fisiológico, ring...       13.00   \n",
       "2     Aplicação de Injeção Subcutânea ou Intramuscul...       17.00   \n",
       "3     Aplicação de Injeção Subcutânea ou Intramuscul...       17.00   \n",
       "4     Aplicação de Injeção Subcutânea ou Intramuscul...       17.00   \n",
       "...                                                 ...         ...   \n",
       "5041  Aplicação de Injeção Subcutânea ou Intramuscul...        6.19   \n",
       "5042  Aplicação de Injeção Subcutânea ou Intramuscul...        6.19   \n",
       "5043           Locação de sala para atendimento volante       15.00   \n",
       "5044                                   Consulta Plantão       75.52   \n",
       "5045                      Colírio Anestésico unilateral        1.38   \n",
       "\n",
       "      FL_CAIU_REGRA_SISTEMA  FL_ANALISAR  EXPECTATIVA_GLOSA  FL_AUDITADO  \\\n",
       "0                         0            1                6.8         True   \n",
       "1                         0            1               12.6         True   \n",
       "2                         0            1               16.3         True   \n",
       "3                         0            1               16.3         True   \n",
       "4                         0            1               16.3         True   \n",
       "...                     ...          ...                ...          ...   \n",
       "5041                      0            1                3.7        False   \n",
       "5042                      0            1                3.7        False   \n",
       "5043                      0            1                9.0        False   \n",
       "5044                      0            1               45.3        False   \n",
       "5045                      0            1                0.8        False   \n",
       "\n",
       "      PREV ANALISADO  \n",
       "0              False  \n",
       "1              False  \n",
       "2              False  \n",
       "3              False  \n",
       "4              False  \n",
       "...              ...  \n",
       "5041           False  \n",
       "5042           False  \n",
       "5043           False  \n",
       "5044           False  \n",
       "5045           False  \n",
       "\n",
       "[5046 rows x 11 columns]"
      ]
     },
     "execution_count": 7,
     "metadata": {},
     "output_type": "execute_result"
    }
   ],
   "source": [
    "df_pov_2"
   ]
  },
  {
   "cell_type": "markdown",
   "id": "19f644e9-67c6-463e-9214-d69e774253ed",
   "metadata": {
    "jp-MarkdownHeadingCollapsed": true
   },
   "source": [
    "#### Carregando procedimentos auditados (Processo atual)"
   ]
  },
  {
   "cell_type": "code",
   "execution_count": 89,
   "id": "ab6b5f2c-1544-44f1-aa31-293c07ce68b9",
   "metadata": {},
   "outputs": [],
   "source": [
    "df_processo_atual = pd.read_csv('/mnt/c/Users/iago.louzado/Downloads/auditoria_processo_atual.csv')"
   ]
  },
  {
   "cell_type": "code",
   "execution_count": 90,
   "id": "c70fa4b1-a58d-4ef8-8a0e-c7302210641b",
   "metadata": {},
   "outputs": [],
   "source": [
    "# Renomeando coluna\n",
    "df_processo_atual = df_processo_atual.rename(columns = {'Nº SOLICITAÇÃO': 'numero_atendimento'})"
   ]
  },
  {
   "cell_type": "code",
   "execution_count": 48,
   "id": "a716a23a-407b-4ad3-ba2e-69c13842c232",
   "metadata": {},
   "outputs": [],
   "source": [
    "# Excluindo colunas que vieram zoadas no csv\n",
    "# df_processo_atual = df_processo_atual.drop(['Unnamed: 1', 'Unnamed: 2', 'Unnamed: 3', 'Unnamed: 4', 'Unnamed: 5'], axis = 1)"
   ]
  },
  {
   "cell_type": "code",
   "execution_count": 92,
   "id": "00502dfe-d770-4466-885c-abaf69a585ae",
   "metadata": {},
   "outputs": [
    {
     "data": {
      "text/html": [
       "<div>\n",
       "<style scoped>\n",
       "    .dataframe tbody tr th:only-of-type {\n",
       "        vertical-align: middle;\n",
       "    }\n",
       "\n",
       "    .dataframe tbody tr th {\n",
       "        vertical-align: top;\n",
       "    }\n",
       "\n",
       "    .dataframe thead th {\n",
       "        text-align: right;\n",
       "    }\n",
       "</style>\n",
       "<table border=\"1\" class=\"dataframe\">\n",
       "  <thead>\n",
       "    <tr style=\"text-align: right;\">\n",
       "      <th></th>\n",
       "      <th>numero_atendimento</th>\n",
       "    </tr>\n",
       "  </thead>\n",
       "  <tbody>\n",
       "    <tr>\n",
       "      <th>0</th>\n",
       "      <td>3069004</td>\n",
       "    </tr>\n",
       "    <tr>\n",
       "      <th>1</th>\n",
       "      <td>3069231</td>\n",
       "    </tr>\n",
       "    <tr>\n",
       "      <th>2</th>\n",
       "      <td>3069562</td>\n",
       "    </tr>\n",
       "    <tr>\n",
       "      <th>3</th>\n",
       "      <td>3156226</td>\n",
       "    </tr>\n",
       "    <tr>\n",
       "      <th>4</th>\n",
       "      <td>3154702</td>\n",
       "    </tr>\n",
       "    <tr>\n",
       "      <th>...</th>\n",
       "      <td>...</td>\n",
       "    </tr>\n",
       "    <tr>\n",
       "      <th>751</th>\n",
       "      <td>3442022</td>\n",
       "    </tr>\n",
       "    <tr>\n",
       "      <th>752</th>\n",
       "      <td>3453519</td>\n",
       "    </tr>\n",
       "    <tr>\n",
       "      <th>753</th>\n",
       "      <td>3454903</td>\n",
       "    </tr>\n",
       "    <tr>\n",
       "      <th>754</th>\n",
       "      <td>3468981</td>\n",
       "    </tr>\n",
       "    <tr>\n",
       "      <th>755</th>\n",
       "      <td>3470786</td>\n",
       "    </tr>\n",
       "  </tbody>\n",
       "</table>\n",
       "<p>756 rows × 1 columns</p>\n",
       "</div>"
      ],
      "text/plain": [
       "     numero_atendimento\n",
       "0               3069004\n",
       "1               3069231\n",
       "2               3069562\n",
       "3               3156226\n",
       "4               3154702\n",
       "..                  ...\n",
       "751             3442022\n",
       "752             3453519\n",
       "753             3454903\n",
       "754             3468981\n",
       "755             3470786\n",
       "\n",
       "[756 rows x 1 columns]"
      ]
     },
     "execution_count": 92,
     "metadata": {},
     "output_type": "execute_result"
    }
   ],
   "source": [
    "df_processo_atual"
   ]
  },
  {
   "cell_type": "markdown",
   "id": "4ca02e95-87ed-4efb-856e-a9687bc55953",
   "metadata": {
    "jp-MarkdownHeadingCollapsed": true
   },
   "source": [
    "#### Carregandos custos_medicos"
   ]
  },
  {
   "cell_type": "code",
   "execution_count": 27,
   "id": "e480e8fd-d60d-4143-a3a4-b9603246fc24",
   "metadata": {},
   "outputs": [
    {
     "name": "stderr",
     "output_type": "stream",
     "text": [
      "/home/iagotalamoni/.local/lib/python3.8/site-packages/google/auth/_default.py:76: UserWarning: Your application has authenticated using end user credentials from Google Cloud SDK without a quota project. You might receive a \"quota exceeded\" or \"API not enabled\" error. See the following page for troubleshooting: https://cloud.google.com/docs/authentication/adc-troubleshooting/user-creds. \n",
      "  warnings.warn(_CLOUD_SDK_CREDENTIALS_WARNING)\n"
     ]
    },
    {
     "data": {
      "text/plain": [
       "True"
      ]
     },
     "execution_count": 27,
     "metadata": {},
     "output_type": "execute_result"
    }
   ],
   "source": [
    "# Iniciando o client para acessar o BQ\n",
    "client_bq = config_client('prod')\n",
    "\n",
    "check_client_connection(client_bq)"
   ]
  },
  {
   "cell_type": "code",
   "execution_count": 95,
   "id": "07bddfc8-c612-4c16-a9a3-239791807a43",
   "metadata": {},
   "outputs": [
    {
     "data": {
      "text/plain": [
       "'593.00 MB'"
      ]
     },
     "execution_count": 95,
     "metadata": {},
     "output_type": "execute_result"
    }
   ],
   "source": [
    "# Declarando a query que vamos utilizar\n",
    "query = \"\"\"\n",
    "select cast(id_atendimento as int64) as id_atendimento,\n",
    "       numero_atendimento,\n",
    "       status_novo,\n",
    "       vl_bruto -- Trazendo para análise do processo atual\n",
    "from `op_health.custos_medicos`\n",
    "where sistema_origem_custo = 'ERP Nofaro'\n",
    "and date_trunc(data_origem_date, month) = '2024-05-01'\n",
    "\"\"\"\n",
    "\n",
    "query_bytes(query, client_bq)"
   ]
  },
  {
   "cell_type": "code",
   "execution_count": 96,
   "id": "4c1bf300-9f92-4491-932a-3e6854df7cdb",
   "metadata": {},
   "outputs": [
    {
     "name": "stdout",
     "output_type": "stream",
     "text": [
      "Esta consulta processará 593.00 MB.\n"
     ]
    },
    {
     "name": "stdout",
     "output_type": "stream",
     "text": [
      "Deseja executar a consulta? (Y/N) y\n"
     ]
    },
    {
     "name": "stdout",
     "output_type": "stream",
     "text": [
      "Iniciando query\n",
      "Iniciando a consulta: 2024-06-18 15:09:55\n",
      "Consulta concluída: 2024-06-18 15:10:15\n",
      "Duração da consulta: 0:00:20.088228\n"
     ]
    }
   ],
   "source": [
    "# Trazendo os dados do lake para um dataframe\n",
    "df_lake = run_query(query, client_bq)"
   ]
  },
  {
   "cell_type": "code",
   "execution_count": 97,
   "id": "377ca8e1-b28a-4b43-8c2e-1d43452b4abd",
   "metadata": {},
   "outputs": [
    {
     "name": "stdout",
     "output_type": "stream",
     "text": [
      "<class 'pandas.core.frame.DataFrame'>\n",
      "RangeIndex: 540532 entries, 0 to 540531\n",
      "Data columns (total 4 columns):\n",
      " #   Column              Non-Null Count   Dtype  \n",
      "---  ------              --------------   -----  \n",
      " 0   id_atendimento      540532 non-null  Int64  \n",
      " 1   numero_atendimento  540532 non-null  Int64  \n",
      " 2   status_novo         540532 non-null  object \n",
      " 3   vl_bruto            540481 non-null  float64\n",
      "dtypes: Int64(2), float64(1), object(1)\n",
      "memory usage: 17.5+ MB\n"
     ]
    }
   ],
   "source": [
    "# Verificando os dados\n",
    "df_lake.info()"
   ]
  },
  {
   "cell_type": "code",
   "execution_count": 98,
   "id": "8afd9c43-a31b-499b-a962-0f0844c6c582",
   "metadata": {},
   "outputs": [
    {
     "data": {
      "text/html": [
       "<div>\n",
       "<style scoped>\n",
       "    .dataframe tbody tr th:only-of-type {\n",
       "        vertical-align: middle;\n",
       "    }\n",
       "\n",
       "    .dataframe tbody tr th {\n",
       "        vertical-align: top;\n",
       "    }\n",
       "\n",
       "    .dataframe thead th {\n",
       "        text-align: right;\n",
       "    }\n",
       "</style>\n",
       "<table border=\"1\" class=\"dataframe\">\n",
       "  <thead>\n",
       "    <tr style=\"text-align: right;\">\n",
       "      <th></th>\n",
       "      <th>id_atendimento</th>\n",
       "      <th>numero_atendimento</th>\n",
       "      <th>status_novo</th>\n",
       "      <th>vl_bruto</th>\n",
       "    </tr>\n",
       "  </thead>\n",
       "  <tbody>\n",
       "    <tr>\n",
       "      <th>0</th>\n",
       "      <td>6698290</td>\n",
       "      <td>3192101</td>\n",
       "      <td>Aprovado</td>\n",
       "      <td>42.77</td>\n",
       "    </tr>\n",
       "    <tr>\n",
       "      <th>1</th>\n",
       "      <td>6783966</td>\n",
       "      <td>3233110</td>\n",
       "      <td>Aprovado</td>\n",
       "      <td>48.00</td>\n",
       "    </tr>\n",
       "    <tr>\n",
       "      <th>2</th>\n",
       "      <td>6512676</td>\n",
       "      <td>3103817</td>\n",
       "      <td>Aprovado</td>\n",
       "      <td>51.85</td>\n",
       "    </tr>\n",
       "    <tr>\n",
       "      <th>3</th>\n",
       "      <td>6679779</td>\n",
       "      <td>3183822</td>\n",
       "      <td>Aprovado</td>\n",
       "      <td>86.62</td>\n",
       "    </tr>\n",
       "    <tr>\n",
       "      <th>4</th>\n",
       "      <td>6474013</td>\n",
       "      <td>3085220</td>\n",
       "      <td>Aprovado</td>\n",
       "      <td>79.45</td>\n",
       "    </tr>\n",
       "    <tr>\n",
       "      <th>...</th>\n",
       "      <td>...</td>\n",
       "      <td>...</td>\n",
       "      <td>...</td>\n",
       "      <td>...</td>\n",
       "    </tr>\n",
       "    <tr>\n",
       "      <th>540527</th>\n",
       "      <td>6544739</td>\n",
       "      <td>3119056</td>\n",
       "      <td>Aprovado</td>\n",
       "      <td>14.95</td>\n",
       "    </tr>\n",
       "    <tr>\n",
       "      <th>540528</th>\n",
       "      <td>6765007</td>\n",
       "      <td>3224154</td>\n",
       "      <td>Aprovado</td>\n",
       "      <td>14.95</td>\n",
       "    </tr>\n",
       "    <tr>\n",
       "      <th>540529</th>\n",
       "      <td>6582849</td>\n",
       "      <td>3137094</td>\n",
       "      <td>Aprovado</td>\n",
       "      <td>14.95</td>\n",
       "    </tr>\n",
       "    <tr>\n",
       "      <th>540530</th>\n",
       "      <td>6775178</td>\n",
       "      <td>3229166</td>\n",
       "      <td>Aprovado</td>\n",
       "      <td>14.95</td>\n",
       "    </tr>\n",
       "    <tr>\n",
       "      <th>540531</th>\n",
       "      <td>6518139</td>\n",
       "      <td>3106284</td>\n",
       "      <td>Aprovado</td>\n",
       "      <td>14.95</td>\n",
       "    </tr>\n",
       "  </tbody>\n",
       "</table>\n",
       "<p>540532 rows × 4 columns</p>\n",
       "</div>"
      ],
      "text/plain": [
       "        id_atendimento  numero_atendimento status_novo  vl_bruto\n",
       "0              6698290             3192101    Aprovado     42.77\n",
       "1              6783966             3233110    Aprovado     48.00\n",
       "2              6512676             3103817    Aprovado     51.85\n",
       "3              6679779             3183822    Aprovado     86.62\n",
       "4              6474013             3085220    Aprovado     79.45\n",
       "...                ...                 ...         ...       ...\n",
       "540527         6544739             3119056    Aprovado     14.95\n",
       "540528         6765007             3224154    Aprovado     14.95\n",
       "540529         6582849             3137094    Aprovado     14.95\n",
       "540530         6775178             3229166    Aprovado     14.95\n",
       "540531         6518139             3106284    Aprovado     14.95\n",
       "\n",
       "[540532 rows x 4 columns]"
      ]
     },
     "execution_count": 98,
     "metadata": {},
     "output_type": "execute_result"
    }
   ],
   "source": [
    "df_lake"
   ]
  },
  {
   "cell_type": "markdown",
   "id": "e557e530-1af1-48af-9c25-016a49ad3e09",
   "metadata": {
    "jp-MarkdownHeadingCollapsed": true
   },
   "source": [
    "#### Volume que auditamos na POV (Processo Neurotech)"
   ]
  },
  {
   "cell_type": "code",
   "execution_count": 12,
   "id": "f0aed26a-63bf-4eb1-88f3-d30c91246b78",
   "metadata": {},
   "outputs": [
    {
     "name": "stdout",
     "output_type": "stream",
     "text": [
      "FL_AUDITADO\n",
      "True     2617\n",
      "False    2194\n",
      "Name: count, dtype: int64\n"
     ]
    }
   ],
   "source": [
    "# Primeira Quinzena\n",
    "resultado_1 = df_pov_1['FL_AUDITADO'].value_counts()\n",
    "print(resultado_1)"
   ]
  },
  {
   "cell_type": "code",
   "execution_count": 19,
   "id": "fea99df9-f73d-473f-bfbb-94a973d2f052",
   "metadata": {},
   "outputs": [
    {
     "data": {
      "text/plain": [
       "54.39617543130326"
      ]
     },
     "execution_count": 19,
     "metadata": {},
     "output_type": "execute_result"
    }
   ],
   "source": [
    "# Percentual que auditamos do total - Primeira Quinzena\n",
    "pct_auditado_1 = resultado_1[0] / (resultado_1[0] + resultado_1[1])\n",
    "pct_auditado_1 * 100"
   ]
  },
  {
   "cell_type": "code",
   "execution_count": 22,
   "id": "fa47c987-5751-4e38-8cc5-5210fbd2e7da",
   "metadata": {},
   "outputs": [
    {
     "name": "stdout",
     "output_type": "stream",
     "text": [
      "FL_AUDITADO\n",
      "False    3678\n",
      "True     1368\n",
      "Name: count, dtype: int64\n"
     ]
    }
   ],
   "source": [
    "# Segunda Quinzena\n",
    "resultado_2 = df_pov_2['FL_AUDITADO'].value_counts()\n",
    "print(resultado_2)"
   ]
  },
  {
   "cell_type": "code",
   "execution_count": 26,
   "id": "876279a7-ac6a-498a-848a-718893ce8219",
   "metadata": {},
   "outputs": [
    {
     "data": {
      "text/plain": [
       "27.110582639714625"
      ]
     },
     "execution_count": 26,
     "metadata": {},
     "output_type": "execute_result"
    }
   ],
   "source": [
    "# Percentual que auditamos do total - Primeira Quinzena\n",
    "pct_auditado_2 = resultado_2[1] / (resultado_2[1] + resultado_2[0]) \n",
    "pct_auditado_2 * 100"
   ]
  },
  {
   "cell_type": "code",
   "execution_count": 37,
   "id": "83c34e51-bed7-42dc-bf5c-d05342d4d35e",
   "metadata": {},
   "outputs": [
    {
     "name": "stdout",
     "output_type": "stream",
     "text": [
      "40.428122146697774\n"
     ]
    }
   ],
   "source": [
    "# Totais\n",
    "auditado_1 = resultado_1[0]\n",
    "auditado_2 = resultado_2[1]\n",
    "total_1 = resultado_1[1] + resultado_1[0]\n",
    "total_2 = resultado_2[1] + resultado_2[0]\n",
    "pct_total = (auditado_1 + auditado_2) / (total_1 + total_2)\n",
    "print(pct_total * 100)"
   ]
  },
  {
   "cell_type": "markdown",
   "id": "7b797908-60bf-49ec-83d1-a07db5474703",
   "metadata": {
    "jp-MarkdownHeadingCollapsed": true
   },
   "source": [
    "#### Verificando eficiência (Processo Neurotech)\n",
    "- Status dos procedimentos após a análise\n",
    "- Taxa de glosa\n",
    "- Valor de repassa que economizamos com as glosas"
   ]
  },
  {
   "cell_type": "code",
   "execution_count": 50,
   "id": "ee8d054d-7dfb-4b76-95b5-228ad3900ffc",
   "metadata": {},
   "outputs": [],
   "source": [
    "# Primeiramente vamos juntar as duas planilhas que mandamos para o time de auditoria\n",
    "df_aud_final = pd.concat([df_pov_1, df_pov_2], ignore_index = True)"
   ]
  },
  {
   "cell_type": "code",
   "execution_count": 52,
   "id": "b5e25962-2e35-4bb0-9a3a-3bbead9a5cc3",
   "metadata": {},
   "outputs": [
    {
     "name": "stdout",
     "output_type": "stream",
     "text": [
      "<class 'pandas.core.frame.DataFrame'>\n",
      "RangeIndex: 9857 entries, 0 to 9856\n",
      "Data columns (total 11 columns):\n",
      " #   Column                 Non-Null Count  Dtype  \n",
      "---  ------                 --------------  -----  \n",
      " 0   SCORE                  9857 non-null   float64\n",
      " 1   ID_EVENTO              9857 non-null   int64  \n",
      " 2   ID_ATENDIMENTO         9857 non-null   int64  \n",
      " 3   DATA_SOLICITACAO       9857 non-null   object \n",
      " 4   NOME_PROCEDIMENTO      9857 non-null   object \n",
      " 5   VL_REPASSE             9857 non-null   float64\n",
      " 6   FL_ANALISAR            9857 non-null   int64  \n",
      " 7   EXPECTATIVA_GLOSA      9857 non-null   float64\n",
      " 8   FL_AUDITADO            9857 non-null   bool   \n",
      " 9   PREV ANALISADO         9857 non-null   bool   \n",
      " 10  FL_CAIU_REGRA_SISTEMA  5046 non-null   float64\n",
      "dtypes: bool(2), float64(4), int64(3), object(2)\n",
      "memory usage: 712.4+ KB\n"
     ]
    }
   ],
   "source": [
    "# Verificando se concatenação funcionou\n",
    "df_aud_final.info()"
   ]
  },
  {
   "cell_type": "code",
   "execution_count": 57,
   "id": "d4506ba5-aba7-4168-8a87-901ff8978366",
   "metadata": {},
   "outputs": [],
   "source": [
    "# Agora vamos cruzar a base do que priorizamos com o custos_medicos\n",
    "df_uniao = pd.merge(df_aud_final, right = df_lake, how = 'left', left_on = 'ID_EVENTO', right_on = 'id_atendimento')"
   ]
  },
  {
   "cell_type": "code",
   "execution_count": 58,
   "id": "05993d67-c29f-474a-8461-906509395203",
   "metadata": {},
   "outputs": [
    {
     "name": "stdout",
     "output_type": "stream",
     "text": [
      "<class 'pandas.core.frame.DataFrame'>\n",
      "RangeIndex: 9857 entries, 0 to 9856\n",
      "Data columns (total 14 columns):\n",
      " #   Column                 Non-Null Count  Dtype  \n",
      "---  ------                 --------------  -----  \n",
      " 0   SCORE                  9857 non-null   float64\n",
      " 1   ID_EVENTO              9857 non-null   int64  \n",
      " 2   ID_ATENDIMENTO         9857 non-null   int64  \n",
      " 3   DATA_SOLICITACAO       9857 non-null   object \n",
      " 4   NOME_PROCEDIMENTO      9857 non-null   object \n",
      " 5   VL_REPASSE             9857 non-null   float64\n",
      " 6   FL_ANALISAR            9857 non-null   int64  \n",
      " 7   EXPECTATIVA_GLOSA      9857 non-null   float64\n",
      " 8   FL_AUDITADO            9857 non-null   bool   \n",
      " 9   PREV ANALISADO         9857 non-null   bool   \n",
      " 10  FL_CAIU_REGRA_SISTEMA  5046 non-null   float64\n",
      " 11  id_atendimento         9853 non-null   Int64  \n",
      " 12  numero_atendimento     9853 non-null   Int64  \n",
      " 13  status_novo            9853 non-null   object \n",
      "dtypes: Int64(2), bool(2), float64(4), int64(3), object(3)\n",
      "memory usage: 962.7+ KB\n"
     ]
    }
   ],
   "source": [
    "df_uniao.info()"
   ]
  },
  {
   "cell_type": "code",
   "execution_count": 59,
   "id": "26064d9a-cb9a-44ce-8fa5-becdf02c5fd9",
   "metadata": {},
   "outputs": [],
   "source": [
    "# Agora vamos deixar somente as colunas que queremos\n",
    "df_uniao_final = df_uniao.drop(['id_atendimento', 'numero_atendimento'], axis = 1)"
   ]
  },
  {
   "cell_type": "code",
   "execution_count": 62,
   "id": "4e070053-ee14-4fba-b56d-61b297625263",
   "metadata": {},
   "outputs": [
    {
     "data": {
      "text/html": [
       "<div>\n",
       "<style scoped>\n",
       "    .dataframe tbody tr th:only-of-type {\n",
       "        vertical-align: middle;\n",
       "    }\n",
       "\n",
       "    .dataframe tbody tr th {\n",
       "        vertical-align: top;\n",
       "    }\n",
       "\n",
       "    .dataframe thead th {\n",
       "        text-align: right;\n",
       "    }\n",
       "</style>\n",
       "<table border=\"1\" class=\"dataframe\">\n",
       "  <thead>\n",
       "    <tr style=\"text-align: right;\">\n",
       "      <th></th>\n",
       "      <th>SCORE</th>\n",
       "      <th>ID_EVENTO</th>\n",
       "      <th>ID_ATENDIMENTO</th>\n",
       "      <th>DATA_SOLICITACAO</th>\n",
       "      <th>NOME_PROCEDIMENTO</th>\n",
       "      <th>VL_REPASSE</th>\n",
       "      <th>FL_ANALISAR</th>\n",
       "      <th>EXPECTATIVA_GLOSA</th>\n",
       "      <th>FL_AUDITADO</th>\n",
       "      <th>PREV ANALISADO</th>\n",
       "      <th>FL_CAIU_REGRA_SISTEMA</th>\n",
       "      <th>status_novo</th>\n",
       "    </tr>\n",
       "  </thead>\n",
       "  <tbody>\n",
       "    <tr>\n",
       "      <th>0</th>\n",
       "      <td>0.714491</td>\n",
       "      <td>6618943</td>\n",
       "      <td>3154527</td>\n",
       "      <td>2024-05-14</td>\n",
       "      <td>Abdominocentese</td>\n",
       "      <td>99.00</td>\n",
       "      <td>1</td>\n",
       "      <td>70.7</td>\n",
       "      <td>False</td>\n",
       "      <td>True</td>\n",
       "      <td>NaN</td>\n",
       "      <td>Aprovado</td>\n",
       "    </tr>\n",
       "    <tr>\n",
       "      <th>1</th>\n",
       "      <td>0.837099</td>\n",
       "      <td>6619301</td>\n",
       "      <td>3154694</td>\n",
       "      <td>2024-05-14</td>\n",
       "      <td>Abdominocentese</td>\n",
       "      <td>55.00</td>\n",
       "      <td>1</td>\n",
       "      <td>46.0</td>\n",
       "      <td>True</td>\n",
       "      <td>False</td>\n",
       "      <td>NaN</td>\n",
       "      <td>Aprovado</td>\n",
       "    </tr>\n",
       "    <tr>\n",
       "      <th>2</th>\n",
       "      <td>0.784284</td>\n",
       "      <td>6488233</td>\n",
       "      <td>3091754</td>\n",
       "      <td>2024-05-07</td>\n",
       "      <td>Abdominocentese</td>\n",
       "      <td>54.50</td>\n",
       "      <td>1</td>\n",
       "      <td>42.7</td>\n",
       "      <td>True</td>\n",
       "      <td>False</td>\n",
       "      <td>NaN</td>\n",
       "      <td>Aprovado</td>\n",
       "    </tr>\n",
       "    <tr>\n",
       "      <th>3</th>\n",
       "      <td>0.614452</td>\n",
       "      <td>6628206</td>\n",
       "      <td>3158630</td>\n",
       "      <td>2024-05-15</td>\n",
       "      <td>Abdominocentese</td>\n",
       "      <td>48.20</td>\n",
       "      <td>1</td>\n",
       "      <td>29.6</td>\n",
       "      <td>True</td>\n",
       "      <td>False</td>\n",
       "      <td>NaN</td>\n",
       "      <td>Glosado Recursável</td>\n",
       "    </tr>\n",
       "    <tr>\n",
       "      <th>4</th>\n",
       "      <td>0.667784</td>\n",
       "      <td>6605777</td>\n",
       "      <td>3147823</td>\n",
       "      <td>2024-05-14</td>\n",
       "      <td>Acesso intravenoso</td>\n",
       "      <td>14.16</td>\n",
       "      <td>1</td>\n",
       "      <td>9.5</td>\n",
       "      <td>True</td>\n",
       "      <td>False</td>\n",
       "      <td>NaN</td>\n",
       "      <td>Aprovado</td>\n",
       "    </tr>\n",
       "    <tr>\n",
       "      <th>...</th>\n",
       "      <td>...</td>\n",
       "      <td>...</td>\n",
       "      <td>...</td>\n",
       "      <td>...</td>\n",
       "      <td>...</td>\n",
       "      <td>...</td>\n",
       "      <td>...</td>\n",
       "      <td>...</td>\n",
       "      <td>...</td>\n",
       "      <td>...</td>\n",
       "      <td>...</td>\n",
       "      <td>...</td>\n",
       "    </tr>\n",
       "    <tr>\n",
       "      <th>9852</th>\n",
       "      <td>0.600111</td>\n",
       "      <td>6898604</td>\n",
       "      <td>3288858</td>\n",
       "      <td>2024-05-29</td>\n",
       "      <td>Aplicação de Injeção Subcutânea ou Intramuscul...</td>\n",
       "      <td>6.19</td>\n",
       "      <td>1</td>\n",
       "      <td>3.7</td>\n",
       "      <td>False</td>\n",
       "      <td>False</td>\n",
       "      <td>0.0</td>\n",
       "      <td>Aprovado</td>\n",
       "    </tr>\n",
       "    <tr>\n",
       "      <th>9853</th>\n",
       "      <td>0.600111</td>\n",
       "      <td>6898603</td>\n",
       "      <td>3288858</td>\n",
       "      <td>2024-05-29</td>\n",
       "      <td>Aplicação de Injeção Subcutânea ou Intramuscul...</td>\n",
       "      <td>6.19</td>\n",
       "      <td>1</td>\n",
       "      <td>3.7</td>\n",
       "      <td>False</td>\n",
       "      <td>False</td>\n",
       "      <td>0.0</td>\n",
       "      <td>Aprovado</td>\n",
       "    </tr>\n",
       "    <tr>\n",
       "      <th>9854</th>\n",
       "      <td>0.600066</td>\n",
       "      <td>6716853</td>\n",
       "      <td>3200855</td>\n",
       "      <td>2024-05-20</td>\n",
       "      <td>Locação de sala para atendimento volante</td>\n",
       "      <td>15.00</td>\n",
       "      <td>1</td>\n",
       "      <td>9.0</td>\n",
       "      <td>False</td>\n",
       "      <td>False</td>\n",
       "      <td>0.0</td>\n",
       "      <td>Aprovado</td>\n",
       "    </tr>\n",
       "    <tr>\n",
       "      <th>9855</th>\n",
       "      <td>0.600018</td>\n",
       "      <td>6835470</td>\n",
       "      <td>3258185</td>\n",
       "      <td>2024-05-25</td>\n",
       "      <td>Consulta Plantão</td>\n",
       "      <td>75.52</td>\n",
       "      <td>1</td>\n",
       "      <td>45.3</td>\n",
       "      <td>False</td>\n",
       "      <td>False</td>\n",
       "      <td>0.0</td>\n",
       "      <td>Aprovado</td>\n",
       "    </tr>\n",
       "    <tr>\n",
       "      <th>9856</th>\n",
       "      <td>0.600001</td>\n",
       "      <td>6797083</td>\n",
       "      <td>3239523</td>\n",
       "      <td>2024-05-24</td>\n",
       "      <td>Colírio Anestésico unilateral</td>\n",
       "      <td>1.38</td>\n",
       "      <td>1</td>\n",
       "      <td>0.8</td>\n",
       "      <td>False</td>\n",
       "      <td>False</td>\n",
       "      <td>0.0</td>\n",
       "      <td>Aprovado</td>\n",
       "    </tr>\n",
       "  </tbody>\n",
       "</table>\n",
       "<p>9857 rows × 12 columns</p>\n",
       "</div>"
      ],
      "text/plain": [
       "         SCORE  ID_EVENTO  ID_ATENDIMENTO DATA_SOLICITACAO  \\\n",
       "0     0.714491    6618943         3154527       2024-05-14   \n",
       "1     0.837099    6619301         3154694       2024-05-14   \n",
       "2     0.784284    6488233         3091754       2024-05-07   \n",
       "3     0.614452    6628206         3158630       2024-05-15   \n",
       "4     0.667784    6605777         3147823       2024-05-14   \n",
       "...        ...        ...             ...              ...   \n",
       "9852  0.600111    6898604         3288858       2024-05-29   \n",
       "9853  0.600111    6898603         3288858       2024-05-29   \n",
       "9854  0.600066    6716853         3200855       2024-05-20   \n",
       "9855  0.600018    6835470         3258185       2024-05-25   \n",
       "9856  0.600001    6797083         3239523       2024-05-24   \n",
       "\n",
       "                                      NOME_PROCEDIMENTO  VL_REPASSE  \\\n",
       "0                                       Abdominocentese       99.00   \n",
       "1                                       Abdominocentese       55.00   \n",
       "2                                       Abdominocentese       54.50   \n",
       "3                                       Abdominocentese       48.20   \n",
       "4                                    Acesso intravenoso       14.16   \n",
       "...                                                 ...         ...   \n",
       "9852  Aplicação de Injeção Subcutânea ou Intramuscul...        6.19   \n",
       "9853  Aplicação de Injeção Subcutânea ou Intramuscul...        6.19   \n",
       "9854           Locação de sala para atendimento volante       15.00   \n",
       "9855                                   Consulta Plantão       75.52   \n",
       "9856                      Colírio Anestésico unilateral        1.38   \n",
       "\n",
       "      FL_ANALISAR  EXPECTATIVA_GLOSA  FL_AUDITADO  PREV ANALISADO  \\\n",
       "0               1               70.7        False            True   \n",
       "1               1               46.0         True           False   \n",
       "2               1               42.7         True           False   \n",
       "3               1               29.6         True           False   \n",
       "4               1                9.5         True           False   \n",
       "...           ...                ...          ...             ...   \n",
       "9852            1                3.7        False           False   \n",
       "9853            1                3.7        False           False   \n",
       "9854            1                9.0        False           False   \n",
       "9855            1               45.3        False           False   \n",
       "9856            1                0.8        False           False   \n",
       "\n",
       "      FL_CAIU_REGRA_SISTEMA         status_novo  \n",
       "0                       NaN            Aprovado  \n",
       "1                       NaN            Aprovado  \n",
       "2                       NaN            Aprovado  \n",
       "3                       NaN  Glosado Recursável  \n",
       "4                       NaN            Aprovado  \n",
       "...                     ...                 ...  \n",
       "9852                    0.0            Aprovado  \n",
       "9853                    0.0            Aprovado  \n",
       "9854                    0.0            Aprovado  \n",
       "9855                    0.0            Aprovado  \n",
       "9856                    0.0            Aprovado  \n",
       "\n",
       "[9857 rows x 12 columns]"
      ]
     },
     "execution_count": 62,
     "metadata": {},
     "output_type": "execute_result"
    }
   ],
   "source": [
    "df_uniao_final"
   ]
  },
  {
   "cell_type": "markdown",
   "id": "2978fb94-51bf-4271-9446-2b47839215f6",
   "metadata": {},
   "source": [
    "--------------------------------------------------------------------------------------------------------------------------------------------------------------------"
   ]
  },
  {
   "cell_type": "code",
   "execution_count": null,
   "id": "9920e859-d557-4eb8-b5e8-399791ec3b6b",
   "metadata": {},
   "outputs": [],
   "source": [
    "# Agora vamos começar a gerar os indicadores de performance"
   ]
  },
  {
   "cell_type": "code",
   "execution_count": 65,
   "id": "a977a691-72f7-44f0-870b-61127082f75c",
   "metadata": {},
   "outputs": [
    {
     "data": {
      "text/plain": [
       "status_novo\n",
       "Aprovado                3727\n",
       "Glosado Irrecursável     240\n",
       "Glosado Recursável        18\n",
       "Name: count, dtype: int64"
      ]
     },
     "execution_count": 65,
     "metadata": {},
     "output_type": "execute_result"
    }
   ],
   "source": [
    "# DISTRIBUIÇÃO DOS CASOS AUDITADOS POR STATUS\n",
    "# Do total que auditamos, quais os status após a análise\n",
    "qtd_por_status = df_uniao_final[df_uniao_final['FL_AUDITADO'] == True]['status_novo'].value_counts()\n",
    "qtd_por_status"
   ]
  },
  {
   "cell_type": "code",
   "execution_count": 101,
   "id": "3226f12b-a483-4372-b730-0734540de30a",
   "metadata": {},
   "outputs": [
    {
     "name": "stdout",
     "output_type": "stream",
     "text": [
      "A taxa de glosa é de 6.5%\n"
     ]
    }
   ],
   "source": [
    "# TAXA DE GLOSA\n",
    "# Taxa de glosa = total de glosas / total de casos auditados\n",
    "glosa_irrecursavel = qtd_por_status['Glosado Irrecursável']\n",
    "glosa_recursavel = qtd_por_status['Glosado Recursável']\n",
    "aprovado = qtd_por_status['Aprovado']\n",
    "\n",
    "tx_glosa = (glosa_irrecursavel + glosa_recursavel) / (glosa_irrecursavel + glosa_recursavel + aprovado)\n",
    "tx_glosa * 100\n",
    "\n",
    "print(f'A taxa de glosa é de {round(tx_glosa * 100, 1)}%')"
   ]
  },
  {
   "cell_type": "code",
   "execution_count": 106,
   "id": "a0c7e122-9c7e-4706-a07c-e00bdd02e8fe",
   "metadata": {},
   "outputs": [
    {
     "name": "stdout",
     "output_type": "stream",
     "text": [
      "O valor que podemos economizar é de R$24669.8\n"
     ]
    }
   ],
   "source": [
    "# VALOR ECONOMIZADO COM GLOSAS: Utilizamos o vl_bruto da custos médicos como VL_REPASSE (É o valor que vamos repassar para a clínica - PODE ter copart)\n",
    "glosados = df_uniao_final[(df_uniao_final['status_novo'] == 'Glosado Recursável') | (df_uniao_final['status_novo'] == 'Glosado Irrecursável')]\n",
    "vl_economizado = glosados['VL_REPASSE'].sum()\n",
    "print(f'O valor que podemos economizar é de R${round(vl_economizado, 2)}')"
   ]
  },
  {
   "cell_type": "markdown",
   "id": "e6210731-ec46-4e7b-8e89-b1ea565f1022",
   "metadata": {
    "jp-MarkdownHeadingCollapsed": true
   },
   "source": [
    "#### Verificando eficiência (Processo Atual)\n",
    "- Status dos procedimentos após a análise\n",
    "- Taxa de glosa\n",
    "- Valor de repassa que economizamos com as glosas"
   ]
  },
  {
   "cell_type": "code",
   "execution_count": 99,
   "id": "2a5754c4-aaba-4254-8dd8-6336e5ee633d",
   "metadata": {},
   "outputs": [
    {
     "data": {
      "text/html": [
       "<div>\n",
       "<style scoped>\n",
       "    .dataframe tbody tr th:only-of-type {\n",
       "        vertical-align: middle;\n",
       "    }\n",
       "\n",
       "    .dataframe tbody tr th {\n",
       "        vertical-align: top;\n",
       "    }\n",
       "\n",
       "    .dataframe thead th {\n",
       "        text-align: right;\n",
       "    }\n",
       "</style>\n",
       "<table border=\"1\" class=\"dataframe\">\n",
       "  <thead>\n",
       "    <tr style=\"text-align: right;\">\n",
       "      <th></th>\n",
       "      <th>id_atendimento</th>\n",
       "      <th>numero_atendimento</th>\n",
       "      <th>status_novo</th>\n",
       "      <th>vl_bruto</th>\n",
       "    </tr>\n",
       "  </thead>\n",
       "  <tbody>\n",
       "    <tr>\n",
       "      <th>0</th>\n",
       "      <td>6485697</td>\n",
       "      <td>3090475</td>\n",
       "      <td>Aprovado</td>\n",
       "      <td>115.50</td>\n",
       "    </tr>\n",
       "    <tr>\n",
       "      <th>1</th>\n",
       "      <td>6485698</td>\n",
       "      <td>3090475</td>\n",
       "      <td>Glosado Recursável</td>\n",
       "      <td>210.00</td>\n",
       "    </tr>\n",
       "    <tr>\n",
       "      <th>2</th>\n",
       "      <td>6485699</td>\n",
       "      <td>3090475</td>\n",
       "      <td>Aprovado</td>\n",
       "      <td>210.00</td>\n",
       "    </tr>\n",
       "    <tr>\n",
       "      <th>3</th>\n",
       "      <td>6485696</td>\n",
       "      <td>3090475</td>\n",
       "      <td>Aprovado</td>\n",
       "      <td>68.25</td>\n",
       "    </tr>\n",
       "    <tr>\n",
       "      <th>4</th>\n",
       "      <td>6485695</td>\n",
       "      <td>3090475</td>\n",
       "      <td>Aprovado</td>\n",
       "      <td>68.25</td>\n",
       "    </tr>\n",
       "    <tr>\n",
       "      <th>...</th>\n",
       "      <td>...</td>\n",
       "      <td>...</td>\n",
       "      <td>...</td>\n",
       "      <td>...</td>\n",
       "    </tr>\n",
       "    <tr>\n",
       "      <th>1677</th>\n",
       "      <td>6382636</td>\n",
       "      <td>3041720</td>\n",
       "      <td>Aprovado</td>\n",
       "      <td>20.00</td>\n",
       "    </tr>\n",
       "    <tr>\n",
       "      <th>1678</th>\n",
       "      <td>6382635</td>\n",
       "      <td>3041720</td>\n",
       "      <td>Glosado Recursável</td>\n",
       "      <td>15.00</td>\n",
       "    </tr>\n",
       "    <tr>\n",
       "      <th>1679</th>\n",
       "      <td>6394874</td>\n",
       "      <td>3047465</td>\n",
       "      <td>Glosado Recursável</td>\n",
       "      <td>15.00</td>\n",
       "    </tr>\n",
       "    <tr>\n",
       "      <th>1680</th>\n",
       "      <td>6386799</td>\n",
       "      <td>3043898</td>\n",
       "      <td>Glosado Recursável</td>\n",
       "      <td>10.00</td>\n",
       "    </tr>\n",
       "    <tr>\n",
       "      <th>1681</th>\n",
       "      <td>6384974</td>\n",
       "      <td>3042966</td>\n",
       "      <td>Glosado Recursável</td>\n",
       "      <td>10.00</td>\n",
       "    </tr>\n",
       "  </tbody>\n",
       "</table>\n",
       "<p>1682 rows × 4 columns</p>\n",
       "</div>"
      ],
      "text/plain": [
       "      id_atendimento  numero_atendimento         status_novo  vl_bruto\n",
       "0            6485697             3090475            Aprovado    115.50\n",
       "1            6485698             3090475  Glosado Recursável    210.00\n",
       "2            6485699             3090475            Aprovado    210.00\n",
       "3            6485696             3090475            Aprovado     68.25\n",
       "4            6485695             3090475            Aprovado     68.25\n",
       "...              ...                 ...                 ...       ...\n",
       "1677         6382636             3041720            Aprovado     20.00\n",
       "1678         6382635             3041720  Glosado Recursável     15.00\n",
       "1679         6394874             3047465  Glosado Recursável     15.00\n",
       "1680         6386799             3043898  Glosado Recursável     10.00\n",
       "1681         6384974             3042966  Glosado Recursável     10.00\n",
       "\n",
       "[1682 rows x 4 columns]"
      ]
     },
     "execution_count": 99,
     "metadata": {},
     "output_type": "execute_result"
    }
   ],
   "source": [
    "# Cruzamento da base via indicador com a custos_medicos\n",
    "df_uniao_2 = pd.merge(df_lake, right = df_processo_atual, how = 'inner', left_on = 'numero_atendimento', right_on = 'numero_atendimento')\n",
    "df_uniao_2"
   ]
  },
  {
   "cell_type": "code",
   "execution_count": 100,
   "id": "aae9e1a5-6a8d-4d37-9db2-2f8bb9b1eae4",
   "metadata": {},
   "outputs": [
    {
     "data": {
      "text/plain": [
       "status_novo\n",
       "Aprovado                887\n",
       "Glosado Recursável      388\n",
       "Recursado               240\n",
       "Glosado Irrecursável    166\n",
       "Fora prazo recurso        1\n",
       "Name: count, dtype: int64"
      ]
     },
     "execution_count": 100,
     "metadata": {},
     "output_type": "execute_result"
    }
   ],
   "source": [
    "# DISTRIBUIÇÃO DOS CASOS AUDITADOS POR STATUS\n",
    "# Do total que auditamos, quais os status após a análise\n",
    "qtd_por_status_2 = df_uniao_2['status_novo'].value_counts()\n",
    "qtd_por_status_2"
   ]
  },
  {
   "cell_type": "code",
   "execution_count": 102,
   "id": "6054578e-ce15-41b8-89e0-14e94fa19ff8",
   "metadata": {},
   "outputs": [
    {
     "name": "stdout",
     "output_type": "stream",
     "text": [
      "A taxa de glosa é de 47.3%\n"
     ]
    }
   ],
   "source": [
    "# TAXA DE GLOSA\n",
    "# Taxa de glosa = total de glosas / total de casos auditados\n",
    "glosa_irrecursavel = qtd_por_status_2['Glosado Irrecursável']\n",
    "glosa_recursavel = qtd_por_status_2['Glosado Recursável']\n",
    "aprovado = qtd_por_status_2['Aprovado']\n",
    "recursados = qtd_por_status_2['Recursado']\n",
    "fora_prazo_recurso = qtd_por_status_2['Fora prazo recurso']\n",
    "\n",
    "tx_glosa_2 = (glosa_irrecursavel + glosa_recursavel + recursados + fora_prazo_recurso) / (glosa_irrecursavel + glosa_recursavel + aprovado + recursados + fora_prazo_recurso)\n",
    "tx_glosa_2 * 100\n",
    "\n",
    "print(f'A taxa de glosa é de {round(tx_glosa_2 * 100, 1)}%')"
   ]
  },
  {
   "cell_type": "code",
   "execution_count": 107,
   "id": "2354a7f9-2118-4e7b-8cea-09488e833451",
   "metadata": {},
   "outputs": [
    {
     "name": "stdout",
     "output_type": "stream",
     "text": [
      "O valor que podemos economizar é de R$82905.91\n"
     ]
    }
   ],
   "source": [
    "# VALOR ECONOMIZADO COM GLOSAS: Utilizamos o vl_bruto da custos médicos como VL_REPASSE (É o valor que vamos repassar para a clínica - PODE ter copart)\n",
    "glosados_2 = df_uniao_2[df_uniao_2['status_novo'] != 'Aprovado']\n",
    "vl_economizado_2 = glosados_2['vl_bruto'].sum()\n",
    "print(f'O valor que podemos economizar é de R${round(vl_economizado_2, 2)}')"
   ]
  },
  {
   "cell_type": "code",
   "execution_count": 109,
   "id": "0b1d7026-bbed-44ba-afca-4535615b06fc",
   "metadata": {},
   "outputs": [
    {
     "data": {
      "text/plain": [
       "'Arquivo teste_glosados.xlsx salvo com sucesso em /mnt/c/Users/iago.louzado/Downloads/teste_glosados.xlsx!!'"
      ]
     },
     "execution_count": 109,
     "metadata": {},
     "output_type": "execute_result"
    }
   ],
   "source": [
    "save_to_xlsx(glosados_2, path = '/mnt/c/Users/iago.louzado/Downloads', file_name = 'teste_glosados')"
   ]
  },
  {
   "cell_type": "markdown",
   "id": "2064e0b1-f0a1-42e4-8ba6-fd55ad8a07fb",
   "metadata": {},
   "source": [
    "#### Valor médio do procedimento por faixa de score - POV\n",
    "- A ideia aqui é pegarmos o que foi scorado e priorizado pela Neurotech e entender o valor médio de procedimento por faixa de score"
   ]
  },
  {
   "cell_type": "code",
   "execution_count": 139,
   "id": "3ca19837-f8c4-43e2-bce4-57eba1bbf9a9",
   "metadata": {},
   "outputs": [
    {
     "name": "stdout",
     "output_type": "stream",
     "text": [
      "Primeira quinzena: 41750 | Segunda Quinzena: 45001.\n",
      "Total Scorados: 86751\n"
     ]
    }
   ],
   "source": [
    "# Fazendo a carga das bases completas de priorização\n",
    "df_total_1 = pd.read_csv('/mnt/c/Users/iago.louzado/Downloads/base_neurotech_01052024_16052024_41k_score.csv')\n",
    "df_total_2 = pd.read_csv('/mnt/c/Users/iago.louzado/Downloads/base_neurotech_17052024_31052024_45k_score.csv')\n",
    "print(f'Primeira quinzena: {len(df_total_1)} | Segunda Quinzena: {len(df_total_2)}.\\nTotal Scorados: {len(df_total_1) + len(df_total_2)}')"
   ]
  },
  {
   "cell_type": "code",
   "execution_count": 140,
   "id": "1cdd6462-a5d1-4d73-83f4-22973cc87d10",
   "metadata": {},
   "outputs": [
    {
     "name": "stdout",
     "output_type": "stream",
     "text": [
      "<class 'pandas.core.frame.DataFrame'>\n",
      "RangeIndex: 86751 entries, 0 to 86750\n",
      "Data columns (total 4 columns):\n",
      " #   Column            Non-Null Count  Dtype  \n",
      "---  ------            --------------  -----  \n",
      " 0   SCORE             86751 non-null  float64\n",
      " 1   ID_EVENTO         86751 non-null  int64  \n",
      " 2   ID_ATENDIMENTO    86751 non-null  int64  \n",
      " 3   DATA_SOLICITACAO  86751 non-null  object \n",
      "dtypes: float64(1), int64(2), object(1)\n",
      "memory usage: 2.6+ MB\n"
     ]
    }
   ],
   "source": [
    "# Vamos concatenar tudo em um mesmo dataframe\n",
    "df_total_final = pd.concat([df_total_1, df_total_2], ignore_index = True)\n",
    "df_total_final.info()"
   ]
  },
  {
   "cell_type": "code",
   "execution_count": 141,
   "id": "73a9762d-89a3-49ea-86f4-9772d8f410fc",
   "metadata": {},
   "outputs": [
    {
     "name": "stdout",
     "output_type": "stream",
     "text": [
      "<class 'pandas.core.frame.DataFrame'>\n",
      "RangeIndex: 86751 entries, 0 to 86750\n",
      "Data columns (total 5 columns):\n",
      " #   Column               Non-Null Count  Dtype  \n",
      "---  ------               --------------  -----  \n",
      " 0   SCORE                86751 non-null  float64\n",
      " 1   ID_EVENTO            86751 non-null  int64  \n",
      " 2   ID_ATENDIMENTO       86751 non-null  int64  \n",
      " 3   DATA_SOLICITACAO     86751 non-null  object \n",
      " 4   classificacao_score  86751 non-null  object \n",
      "dtypes: float64(1), int64(2), object(2)\n",
      "memory usage: 3.3+ MB\n"
     ]
    }
   ],
   "source": [
    "# Criando categorias por score\n",
    "condicoes = [\n",
    "    (df_total_final['SCORE']<= .1),\n",
    "    (df_total_final['SCORE']>.1) & (df_total_final['SCORE']<=.2),\n",
    "    (df_total_final['SCORE']>.2) & (df_total_final['SCORE']<=.3),\n",
    "    (df_total_final['SCORE']>.3) & (df_total_final['SCORE']<=.4),\n",
    "    (df_total_final['SCORE']>.4) & (df_total_final['SCORE']<=.5),\n",
    "    (df_total_final['SCORE']>.5) & (df_total_final['SCORE']<=.6),\n",
    "    (df_total_final['SCORE']>.6) & (df_total_final['SCORE']<=.7),\n",
    "    (df_total_final['SCORE']>.7) & (df_total_final['SCORE']<=.8),\n",
    "    (df_total_final['SCORE']>.8) & (df_total_final['SCORE']<=.9),\n",
    "    (df_total_final['SCORE']>.9)\n",
    "]\n",
    "\n",
    "categorias = [\n",
    "    '0 - 0 a 10%',\n",
    "    '1 - 10 a 20%',\n",
    "    '2 - 20 a 30%',\n",
    "    '3 - 30 a 40%',\n",
    "    '4 - 40 a 50%',\n",
    "    '5 - 50 a 60%',\n",
    "    '6 - 60 a 70%',\n",
    "    '7 - 70 a 80%',\n",
    "    '8 - 80 a 90%',\n",
    "    '9 - 90 a 100%',\n",
    "]\n",
    "df_total_final['classificacao_score'] = np.select(condicoes, categorias, np.nan)\n",
    "df_total_final.info()"
   ]
  },
  {
   "cell_type": "code",
   "execution_count": 142,
   "id": "7970d724-89c8-49d6-b445-0f67b46abb73",
   "metadata": {},
   "outputs": [],
   "source": [
    "# Agora vamos trazer os dados de valor de repasse para o dataframe\n",
    "# Esse passo é importante para calcular o valor médio de repasse por faixa de score\n",
    "df_cm_total_final = pd.merge(df_total_final, right = df_lake, how = 'left', left_on = 'ID_EVENTO', right_on = 'id_atendimento')"
   ]
  },
  {
   "cell_type": "code",
   "execution_count": 144,
   "id": "384bd66e-86e2-4b49-a28c-0afe13b7d2f4",
   "metadata": {},
   "outputs": [
    {
     "name": "stdout",
     "output_type": "stream",
     "text": [
      "<class 'pandas.core.frame.DataFrame'>\n",
      "RangeIndex: 86751 entries, 0 to 86750\n",
      "Data columns (total 6 columns):\n",
      " #   Column               Non-Null Count  Dtype  \n",
      "---  ------               --------------  -----  \n",
      " 0   SCORE                86751 non-null  float64\n",
      " 1   ID_EVENTO            86751 non-null  int64  \n",
      " 2   ID_ATENDIMENTO       86751 non-null  int64  \n",
      " 3   DATA_SOLICITACAO     86751 non-null  object \n",
      " 4   classificacao_score  86751 non-null  object \n",
      " 5   vl_bruto             86702 non-null  float64\n",
      "dtypes: float64(2), int64(2), object(2)\n",
      "memory usage: 4.0+ MB\n"
     ]
    }
   ],
   "source": [
    "# Apagando colunas desnecessárias\n",
    "df_cm_total_final = df_cm_total_final.drop(['id_atendimento', 'numero_atendimento', 'status_novo'], axis = 1)\n",
    "df_cm_total_final.info()"
   ]
  },
  {
   "cell_type": "code",
   "execution_count": 147,
   "id": "4ef40cf8-ca76-4abc-a91e-b34e31f6544c",
   "metadata": {},
   "outputs": [
    {
     "data": {
      "text/plain": [
       "classificacao_score\n",
       "0 - 0 a 10%      21.885260\n",
       "1 - 10 a 20%     47.059235\n",
       "2 - 20 a 30%     53.456215\n",
       "3 - 30 a 40%     55.589188\n",
       "4 - 40 a 50%     60.559554\n",
       "5 - 50 a 60%     61.374213\n",
       "6 - 60 a 70%     55.915274\n",
       "7 - 70 a 80%     31.493620\n",
       "8 - 80 a 90%     21.716613\n",
       "9 - 90 a 100%    15.249280\n",
       "Name: vl_bruto, dtype: float64"
      ]
     },
     "execution_count": 147,
     "metadata": {},
     "output_type": "execute_result"
    }
   ],
   "source": [
    "# Cálculo da média por faixa de score\n",
    "df_cm_total_final.groupby('classificacao_score')['vl_bruto'].mean()"
   ]
  },
  {
   "cell_type": "code",
   "execution_count": null,
   "id": "7b752d1b-39dc-4c19-bd32-34b74d9b5c90",
   "metadata": {},
   "outputs": [],
   "source": [
    "-- Montar base com consolidações que bruno pediu"
   ]
  }
 ],
 "metadata": {
  "kernelspec": {
   "display_name": "Python 3 (ipykernel)",
   "language": "python",
   "name": "python3"
  },
  "language_info": {
   "codemirror_mode": {
    "name": "ipython",
    "version": 3
   },
   "file_extension": ".py",
   "mimetype": "text/x-python",
   "name": "python",
   "nbconvert_exporter": "python",
   "pygments_lexer": "ipython3",
   "version": "undefined.undefined.undefined"
  }
 },
 "nbformat": 4,
 "nbformat_minor": 5
}
