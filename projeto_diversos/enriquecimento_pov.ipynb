{
 "cells": [
  {
   "cell_type": "code",
   "execution_count": 2,
   "id": "27ff1bd4-b15f-4f7d-9d9e-c6d8a886f9b8",
   "metadata": {},
   "outputs": [],
   "source": [
    "from golden import *\n",
    "import pandas as pd\n",
    "import numpy as np"
   ]
  },
  {
   "cell_type": "code",
   "execution_count": 3,
   "id": "35af2bfe-9182-4d2b-a1f3-2f3eb137517f",
   "metadata": {},
   "outputs": [],
   "source": [
    "df_neurotech = pd.read_csv('/mnt/c/Users/anderson.paiva/Documents/03.3 Squad Saúde/Projeto Neurotech/base_pov - maio-junho.csv')"
   ]
  },
  {
   "cell_type": "code",
   "execution_count": 4,
   "id": "bf9bd6eb-2013-403e-94ef-acfb7b284777",
   "metadata": {},
   "outputs": [
    {
     "name": "stdout",
     "output_type": "stream",
     "text": [
      "<class 'pandas.core.frame.DataFrame'>\n",
      "RangeIndex: 19993 entries, 0 to 19992\n",
      "Data columns (total 7 columns):\n",
      " #   Column           Non-Null Count  Dtype \n",
      "---  ------           --------------  ----- \n",
      " 0   mes              19993 non-null  object\n",
      " 1   origem           19993 non-null  object\n",
      " 2   id_atendimento   19993 non-null  int64 \n",
      " 3   id_procedimento  19993 non-null  int64 \n",
      " 4   vl_repasse       19993 non-null  object\n",
      " 5   fl_auditoria     19993 non-null  object\n",
      " 6   status_novo      19993 non-null  object\n",
      "dtypes: int64(2), object(5)\n",
      "memory usage: 1.1+ MB\n"
     ]
    }
   ],
   "source": [
    "df_neurotech.info()"
   ]
  },
  {
   "cell_type": "code",
   "execution_count": 5,
   "id": "115676fe-3bf9-4847-9ee9-de82b2434361",
   "metadata": {},
   "outputs": [
    {
     "name": "stderr",
     "output_type": "stream",
     "text": [
      "/home/andersonxpm/.local/lib/python3.8/site-packages/google/auth/_default.py:70: UserWarning: Your application has authenticated using end user credentials from Google Cloud SDK without a quota project. You might receive a \"quota exceeded\" or \"API not enabled\" error. We recommend you rerun `gcloud auth application-default login` and make sure a quota project is added. Or you can use service accounts instead. For more information about service accounts, see https://cloud.google.com/docs/authentication/\n",
      "  warnings.warn(_CLOUD_SDK_CREDENTIALS_WARNING)\n"
     ]
    },
    {
     "name": "stdout",
     "output_type": "stream",
     "text": [
      "Quer matar o Cesar????\n"
     ]
    },
    {
     "data": {
      "text/plain": [
       "'1.22 GB'"
      ]
     },
     "execution_count": 5,
     "metadata": {},
     "output_type": "execute_result"
    }
   ],
   "source": [
    "# Iniciando o client para acessar o BQ\n",
    "client_bq = config_client('prod')\n",
    "\n",
    "# Verificando se o client está conectado\n",
    "check_client_connection(client_bq)\n",
    "\n",
    "# Declarando a query que vamos utilizar\n",
    "query = \"\"\"\n",
    "select cast(id_atendimento as int64) as id_atendimento,\n",
    "       numero_atendimento,\n",
    "       status_novo,\n",
    "       vl_bruto, -- Trazendo para análise do processo atual\n",
    "       motivo_glosa_desc,\n",
    "       data_origem_date,\n",
    "       nome_procedimento,\n",
    "       fl_edicao_procedimento,\n",
    "       diff_apos_edicao,\n",
    "       case when status_novo in ('Glosado Irrecursável', 'Recurso recusado', 'Fora prazo recurso') then 'Definitivo'\n",
    "            when status_novo in ('Glosado Recursável', 'Recursado', 'Recurso aceito', 'Recurso aceito parcialmente') then 'Não definitiva'\n",
    "       end as status_glosa\n",
    "from `op_health.custos_medicos`\n",
    "where sistema_origem_custo = 'ERP Nofaro'\n",
    "and date_trunc(data_origem_date, month) >= '2024-05-01'\n",
    "\"\"\"\n",
    "\n",
    "query_bytes(query, client_bq)"
   ]
  },
  {
   "cell_type": "code",
   "execution_count": 6,
   "id": "8272f1e0-1e39-4f6b-baf9-99c66bf9317e",
   "metadata": {},
   "outputs": [
    {
     "name": "stdout",
     "output_type": "stream",
     "text": [
      "Quer matar o Cesar????\n",
      "Esta consulta processará 1.22 GB.\n"
     ]
    },
    {
     "name": "stdin",
     "output_type": "stream",
     "text": [
      "Deseja executar a consulta? (Y/N) Y\n"
     ]
    },
    {
     "name": "stdout",
     "output_type": "stream",
     "text": [
      "Iniciando query\n",
      "Iniciando a consulta: 2024-09-03 15:06:12\n",
      "Consulta concluída: 2024-09-03 15:10:16\n",
      "Duração da consulta: 0:04:04.360572\n"
     ]
    }
   ],
   "source": [
    "df_custos_medicos = run_query(query, client_bq)"
   ]
  },
  {
   "cell_type": "code",
   "execution_count": 7,
   "id": "fc05a8ff-cb79-4101-be14-252d26a70efc",
   "metadata": {},
   "outputs": [
    {
     "name": "stdout",
     "output_type": "stream",
     "text": [
      "<class 'pandas.core.frame.DataFrame'>\n",
      "RangeIndex: 2541831 entries, 0 to 2541830\n",
      "Data columns (total 10 columns):\n",
      " #   Column                  Dtype         \n",
      "---  ------                  -----         \n",
      " 0   id_atendimento          int64         \n",
      " 1   numero_atendimento      int64         \n",
      " 2   status_novo             object        \n",
      " 3   vl_bruto                float64       \n",
      " 4   motivo_glosa_desc       object        \n",
      " 5   data_origem_date        datetime64[ns]\n",
      " 6   nome_procedimento       object        \n",
      " 7   fl_edicao_procedimento  int64         \n",
      " 8   diff_apos_edicao        float64       \n",
      " 9   status_glosa            object        \n",
      "dtypes: datetime64[ns](1), float64(2), int64(3), object(4)\n",
      "memory usage: 193.9+ MB\n"
     ]
    }
   ],
   "source": [
    "df_custos_medicos.info()"
   ]
  },
  {
   "cell_type": "code",
   "execution_count": 8,
   "id": "cee0bc54-1bda-4a51-aa18-cf679caa05f4",
   "metadata": {},
   "outputs": [],
   "source": [
    "df_uniao = pd.merge(df_neurotech, right = df_custos_medicos, how = 'left', left_on = 'id_procedimento', right_on = 'id_atendimento')"
   ]
  },
  {
   "cell_type": "code",
   "execution_count": 9,
   "id": "48d6a496-dcf2-4073-a32a-9a1d037394a8",
   "metadata": {},
   "outputs": [],
   "source": [
    "df_final = df_uniao[['mes', 'origem', 'id_atendimento_x', 'id_procedimento', 'vl_repasse', 'fl_auditoria', 'status_novo_x', 'status_novo_y']]"
   ]
  },
  {
   "cell_type": "code",
   "execution_count": 10,
   "id": "dca4ed4f-68c8-491b-a1ca-0daafd6ad526",
   "metadata": {},
   "outputs": [
    {
     "data": {
      "text/html": [
       "<div>\n",
       "<style scoped>\n",
       "    .dataframe tbody tr th:only-of-type {\n",
       "        vertical-align: middle;\n",
       "    }\n",
       "\n",
       "    .dataframe tbody tr th {\n",
       "        vertical-align: top;\n",
       "    }\n",
       "\n",
       "    .dataframe thead th {\n",
       "        text-align: right;\n",
       "    }\n",
       "</style>\n",
       "<table border=\"1\" class=\"dataframe\">\n",
       "  <thead>\n",
       "    <tr style=\"text-align: right;\">\n",
       "      <th></th>\n",
       "      <th>mes</th>\n",
       "      <th>origem</th>\n",
       "      <th>id_atendimento_x</th>\n",
       "      <th>id_procedimento</th>\n",
       "      <th>vl_repasse</th>\n",
       "      <th>fl_auditoria</th>\n",
       "      <th>status_novo_x</th>\n",
       "      <th>status_novo_y</th>\n",
       "    </tr>\n",
       "  </thead>\n",
       "  <tbody>\n",
       "    <tr>\n",
       "      <th>0</th>\n",
       "      <td>maio/24</td>\n",
       "      <td>PoV Indicadores</td>\n",
       "      <td>3069004</td>\n",
       "      <td>6440570</td>\n",
       "      <td>R$ 8</td>\n",
       "      <td>AUDITADO PROC ATUAL</td>\n",
       "      <td>Aprovado</td>\n",
       "      <td>Aprovado</td>\n",
       "    </tr>\n",
       "    <tr>\n",
       "      <th>1</th>\n",
       "      <td>maio/24</td>\n",
       "      <td>PoV Indicadores</td>\n",
       "      <td>3069004</td>\n",
       "      <td>6440567</td>\n",
       "      <td>R$ 0</td>\n",
       "      <td>AUDITADO PROC ATUAL</td>\n",
       "      <td>Aprovado</td>\n",
       "      <td>Aprovado</td>\n",
       "    </tr>\n",
       "    <tr>\n",
       "      <th>2</th>\n",
       "      <td>maio/24</td>\n",
       "      <td>PoV Indicadores</td>\n",
       "      <td>3069004</td>\n",
       "      <td>6440569</td>\n",
       "      <td>R$ 0</td>\n",
       "      <td>AUDITADO PROC ATUAL</td>\n",
       "      <td>Glosado Irrecursável</td>\n",
       "      <td>Glosado Irrecursável</td>\n",
       "    </tr>\n",
       "    <tr>\n",
       "      <th>3</th>\n",
       "      <td>maio/24</td>\n",
       "      <td>PoV Indicadores</td>\n",
       "      <td>3069004</td>\n",
       "      <td>6440568</td>\n",
       "      <td>R$ 0</td>\n",
       "      <td>AUDITADO PROC ATUAL</td>\n",
       "      <td>Glosado Irrecursável</td>\n",
       "      <td>Glosado Irrecursável</td>\n",
       "    </tr>\n",
       "    <tr>\n",
       "      <th>4</th>\n",
       "      <td>maio/24</td>\n",
       "      <td>PoV Indicadores</td>\n",
       "      <td>3069231</td>\n",
       "      <td>6441074</td>\n",
       "      <td>R$ 16</td>\n",
       "      <td>AUDITADO PROC ATUAL</td>\n",
       "      <td>Aprovado</td>\n",
       "      <td>Aprovado</td>\n",
       "    </tr>\n",
       "    <tr>\n",
       "      <th>...</th>\n",
       "      <td>...</td>\n",
       "      <td>...</td>\n",
       "      <td>...</td>\n",
       "      <td>...</td>\n",
       "      <td>...</td>\n",
       "      <td>...</td>\n",
       "      <td>...</td>\n",
       "      <td>...</td>\n",
       "    </tr>\n",
       "    <tr>\n",
       "      <th>19988</th>\n",
       "      <td>junho/24</td>\n",
       "      <td>PoV Indicadores</td>\n",
       "      <td>3346783</td>\n",
       "      <td>7018503</td>\n",
       "      <td>R$ 22</td>\n",
       "      <td>AUDITADO PROC ATUAL</td>\n",
       "      <td>Recursado</td>\n",
       "      <td>Recurso recusado</td>\n",
       "    </tr>\n",
       "    <tr>\n",
       "      <th>19989</th>\n",
       "      <td>junho/24</td>\n",
       "      <td>PoV Indicadores</td>\n",
       "      <td>3435626</td>\n",
       "      <td>7202200</td>\n",
       "      <td>R$ 111</td>\n",
       "      <td>AUDITADO PROC ATUAL</td>\n",
       "      <td>Recursado</td>\n",
       "      <td>Recurso recusado</td>\n",
       "    </tr>\n",
       "    <tr>\n",
       "      <th>19990</th>\n",
       "      <td>junho/24</td>\n",
       "      <td>PoV Indicadores</td>\n",
       "      <td>3435420</td>\n",
       "      <td>7201763</td>\n",
       "      <td>R$ 114</td>\n",
       "      <td>AUDITADO PROC ATUAL</td>\n",
       "      <td>Recursado</td>\n",
       "      <td>Recurso recusado</td>\n",
       "    </tr>\n",
       "    <tr>\n",
       "      <th>19991</th>\n",
       "      <td>junho/24</td>\n",
       "      <td>PoV Indicadores</td>\n",
       "      <td>3596849</td>\n",
       "      <td>7533274</td>\n",
       "      <td>R$ 52</td>\n",
       "      <td>AUDITADO PROC ATUAL</td>\n",
       "      <td>Glosado Irrecursável</td>\n",
       "      <td>Glosado Irrecursável</td>\n",
       "    </tr>\n",
       "    <tr>\n",
       "      <th>19992</th>\n",
       "      <td>junho/24</td>\n",
       "      <td>PoV Indicadores</td>\n",
       "      <td>3596972</td>\n",
       "      <td>7533510</td>\n",
       "      <td>R$ 63</td>\n",
       "      <td>AUDITADO PROC ATUAL</td>\n",
       "      <td>Glosado Irrecursável</td>\n",
       "      <td>Glosado Irrecursável</td>\n",
       "    </tr>\n",
       "  </tbody>\n",
       "</table>\n",
       "<p>19993 rows × 8 columns</p>\n",
       "</div>"
      ],
      "text/plain": [
       "            mes           origem  id_atendimento_x  id_procedimento  \\\n",
       "0       maio/24  PoV Indicadores           3069004          6440570   \n",
       "1       maio/24  PoV Indicadores           3069004          6440567   \n",
       "2       maio/24  PoV Indicadores           3069004          6440569   \n",
       "3       maio/24  PoV Indicadores           3069004          6440568   \n",
       "4       maio/24  PoV Indicadores           3069231          6441074   \n",
       "...         ...              ...               ...              ...   \n",
       "19988  junho/24  PoV Indicadores           3346783          7018503   \n",
       "19989  junho/24  PoV Indicadores           3435626          7202200   \n",
       "19990  junho/24  PoV Indicadores           3435420          7201763   \n",
       "19991  junho/24  PoV Indicadores           3596849          7533274   \n",
       "19992  junho/24  PoV Indicadores           3596972          7533510   \n",
       "\n",
       "      vl_repasse         fl_auditoria         status_novo_x  \\\n",
       "0           R$ 8  AUDITADO PROC ATUAL              Aprovado   \n",
       "1           R$ 0  AUDITADO PROC ATUAL              Aprovado   \n",
       "2           R$ 0  AUDITADO PROC ATUAL  Glosado Irrecursável   \n",
       "3           R$ 0  AUDITADO PROC ATUAL  Glosado Irrecursável   \n",
       "4          R$ 16  AUDITADO PROC ATUAL              Aprovado   \n",
       "...          ...                  ...                   ...   \n",
       "19988      R$ 22  AUDITADO PROC ATUAL             Recursado   \n",
       "19989     R$ 111  AUDITADO PROC ATUAL             Recursado   \n",
       "19990     R$ 114  AUDITADO PROC ATUAL             Recursado   \n",
       "19991      R$ 52  AUDITADO PROC ATUAL  Glosado Irrecursável   \n",
       "19992      R$ 63  AUDITADO PROC ATUAL  Glosado Irrecursável   \n",
       "\n",
       "              status_novo_y  \n",
       "0                  Aprovado  \n",
       "1                  Aprovado  \n",
       "2      Glosado Irrecursável  \n",
       "3      Glosado Irrecursável  \n",
       "4                  Aprovado  \n",
       "...                     ...  \n",
       "19988      Recurso recusado  \n",
       "19989      Recurso recusado  \n",
       "19990      Recurso recusado  \n",
       "19991  Glosado Irrecursável  \n",
       "19992  Glosado Irrecursável  \n",
       "\n",
       "[19993 rows x 8 columns]"
      ]
     },
     "execution_count": 10,
     "metadata": {},
     "output_type": "execute_result"
    }
   ],
   "source": [
    "df_final"
   ]
  },
  {
   "cell_type": "code",
   "execution_count": 11,
   "id": "13ec347b-0526-4564-a3a3-a46be086852a",
   "metadata": {},
   "outputs": [
    {
     "data": {
      "text/plain": [
       "'Arquivo base_pov_status_final_20240903.csv salvo com sucesso em /mnt/c/Users/anderson.paiva/Downloads/base_pov_status_final_20240903.csv!!'"
      ]
     },
     "execution_count": 11,
     "metadata": {},
     "output_type": "execute_result"
    }
   ],
   "source": [
    "save_to_csv(df_final, path = '/mnt/c/Users/anderson.paiva/Downloads', file_name = 'base_pov_status_final_20240903')"
   ]
  },
  {
   "cell_type": "code",
   "execution_count": 11,
   "id": "98fc3bff-981e-4e3a-ae93-809c69a5aafa",
   "metadata": {},
   "outputs": [
    {
     "ename": "KeyError",
     "evalue": "'SCORE'",
     "output_type": "error",
     "traceback": [
      "\u001b[0;31m---------------------------------------------------------------------------\u001b[0m",
      "\u001b[0;31mKeyError\u001b[0m                                  Traceback (most recent call last)",
      "File \u001b[0;32m~/.local/lib/python3.8/site-packages/pandas/core/indexes/base.py:3653\u001b[0m, in \u001b[0;36mIndex.get_loc\u001b[0;34m(self, key)\u001b[0m\n\u001b[1;32m   3652\u001b[0m \u001b[38;5;28;01mtry\u001b[39;00m:\n\u001b[0;32m-> 3653\u001b[0m     \u001b[38;5;28;01mreturn\u001b[39;00m \u001b[38;5;28;43mself\u001b[39;49m\u001b[38;5;241;43m.\u001b[39;49m\u001b[43m_engine\u001b[49m\u001b[38;5;241;43m.\u001b[39;49m\u001b[43mget_loc\u001b[49m\u001b[43m(\u001b[49m\u001b[43mcasted_key\u001b[49m\u001b[43m)\u001b[49m\n\u001b[1;32m   3654\u001b[0m \u001b[38;5;28;01mexcept\u001b[39;00m \u001b[38;5;167;01mKeyError\u001b[39;00m \u001b[38;5;28;01mas\u001b[39;00m err:\n",
      "File \u001b[0;32m~/.local/lib/python3.8/site-packages/pandas/_libs/index.pyx:147\u001b[0m, in \u001b[0;36mpandas._libs.index.IndexEngine.get_loc\u001b[0;34m()\u001b[0m\n",
      "File \u001b[0;32m~/.local/lib/python3.8/site-packages/pandas/_libs/index.pyx:176\u001b[0m, in \u001b[0;36mpandas._libs.index.IndexEngine.get_loc\u001b[0;34m()\u001b[0m\n",
      "File \u001b[0;32mpandas/_libs/hashtable_class_helper.pxi:7080\u001b[0m, in \u001b[0;36mpandas._libs.hashtable.PyObjectHashTable.get_item\u001b[0;34m()\u001b[0m\n",
      "File \u001b[0;32mpandas/_libs/hashtable_class_helper.pxi:7088\u001b[0m, in \u001b[0;36mpandas._libs.hashtable.PyObjectHashTable.get_item\u001b[0;34m()\u001b[0m\n",
      "\u001b[0;31mKeyError\u001b[0m: 'SCORE'",
      "\nThe above exception was the direct cause of the following exception:\n",
      "\u001b[0;31mKeyError\u001b[0m                                  Traceback (most recent call last)",
      "Cell \u001b[0;32mIn[11], line 3\u001b[0m\n\u001b[1;32m      1\u001b[0m \u001b[38;5;66;03m# Agora vamos criar a coluna com as faixas de score (Categorização do score)\u001b[39;00m\n\u001b[1;32m      2\u001b[0m condicoes \u001b[38;5;241m=\u001b[39m [\n\u001b[0;32m----> 3\u001b[0m     (\u001b[43mdf_uniao\u001b[49m\u001b[43m[\u001b[49m\u001b[38;5;124;43m'\u001b[39;49m\u001b[38;5;124;43mSCORE\u001b[39;49m\u001b[38;5;124;43m'\u001b[39;49m\u001b[43m]\u001b[49m\u001b[38;5;241m<\u001b[39m\u001b[38;5;241m=\u001b[39m \u001b[38;5;241m.1\u001b[39m),\n\u001b[1;32m      4\u001b[0m     (df_uniao[\u001b[38;5;124m'\u001b[39m\u001b[38;5;124mSCORE\u001b[39m\u001b[38;5;124m'\u001b[39m]\u001b[38;5;241m>\u001b[39m\u001b[38;5;241m.1\u001b[39m) \u001b[38;5;241m&\u001b[39m (df_uniao[\u001b[38;5;124m'\u001b[39m\u001b[38;5;124mSCORE\u001b[39m\u001b[38;5;124m'\u001b[39m]\u001b[38;5;241m<\u001b[39m\u001b[38;5;241m=\u001b[39m\u001b[38;5;241m.2\u001b[39m),\n\u001b[1;32m      5\u001b[0m     (df_uniao[\u001b[38;5;124m'\u001b[39m\u001b[38;5;124mSCORE\u001b[39m\u001b[38;5;124m'\u001b[39m]\u001b[38;5;241m>\u001b[39m\u001b[38;5;241m.2\u001b[39m) \u001b[38;5;241m&\u001b[39m (df_uniao[\u001b[38;5;124m'\u001b[39m\u001b[38;5;124mSCORE\u001b[39m\u001b[38;5;124m'\u001b[39m]\u001b[38;5;241m<\u001b[39m\u001b[38;5;241m=\u001b[39m\u001b[38;5;241m.3\u001b[39m),\n\u001b[1;32m      6\u001b[0m     (df_uniao[\u001b[38;5;124m'\u001b[39m\u001b[38;5;124mSCORE\u001b[39m\u001b[38;5;124m'\u001b[39m]\u001b[38;5;241m>\u001b[39m\u001b[38;5;241m.3\u001b[39m) \u001b[38;5;241m&\u001b[39m (df_uniao[\u001b[38;5;124m'\u001b[39m\u001b[38;5;124mSCORE\u001b[39m\u001b[38;5;124m'\u001b[39m]\u001b[38;5;241m<\u001b[39m\u001b[38;5;241m=\u001b[39m\u001b[38;5;241m.4\u001b[39m),\n\u001b[1;32m      7\u001b[0m     (df_uniao[\u001b[38;5;124m'\u001b[39m\u001b[38;5;124mSCORE\u001b[39m\u001b[38;5;124m'\u001b[39m]\u001b[38;5;241m>\u001b[39m\u001b[38;5;241m.4\u001b[39m) \u001b[38;5;241m&\u001b[39m (df_uniao[\u001b[38;5;124m'\u001b[39m\u001b[38;5;124mSCORE\u001b[39m\u001b[38;5;124m'\u001b[39m]\u001b[38;5;241m<\u001b[39m\u001b[38;5;241m=\u001b[39m\u001b[38;5;241m.5\u001b[39m),\n\u001b[1;32m      8\u001b[0m     (df_uniao[\u001b[38;5;124m'\u001b[39m\u001b[38;5;124mSCORE\u001b[39m\u001b[38;5;124m'\u001b[39m]\u001b[38;5;241m>\u001b[39m\u001b[38;5;241m.5\u001b[39m) \u001b[38;5;241m&\u001b[39m (df_uniao[\u001b[38;5;124m'\u001b[39m\u001b[38;5;124mSCORE\u001b[39m\u001b[38;5;124m'\u001b[39m]\u001b[38;5;241m<\u001b[39m\u001b[38;5;241m=\u001b[39m\u001b[38;5;241m.6\u001b[39m),\n\u001b[1;32m      9\u001b[0m     (df_uniao[\u001b[38;5;124m'\u001b[39m\u001b[38;5;124mSCORE\u001b[39m\u001b[38;5;124m'\u001b[39m]\u001b[38;5;241m>\u001b[39m\u001b[38;5;241m.6\u001b[39m) \u001b[38;5;241m&\u001b[39m (df_uniao[\u001b[38;5;124m'\u001b[39m\u001b[38;5;124mSCORE\u001b[39m\u001b[38;5;124m'\u001b[39m]\u001b[38;5;241m<\u001b[39m\u001b[38;5;241m=\u001b[39m\u001b[38;5;241m.7\u001b[39m),\n\u001b[1;32m     10\u001b[0m     (df_uniao[\u001b[38;5;124m'\u001b[39m\u001b[38;5;124mSCORE\u001b[39m\u001b[38;5;124m'\u001b[39m]\u001b[38;5;241m>\u001b[39m\u001b[38;5;241m.7\u001b[39m) \u001b[38;5;241m&\u001b[39m (df_uniao[\u001b[38;5;124m'\u001b[39m\u001b[38;5;124mSCORE\u001b[39m\u001b[38;5;124m'\u001b[39m]\u001b[38;5;241m<\u001b[39m\u001b[38;5;241m=\u001b[39m\u001b[38;5;241m.8\u001b[39m),\n\u001b[1;32m     11\u001b[0m     (df_uniao[\u001b[38;5;124m'\u001b[39m\u001b[38;5;124mSCORE\u001b[39m\u001b[38;5;124m'\u001b[39m]\u001b[38;5;241m>\u001b[39m\u001b[38;5;241m.8\u001b[39m) \u001b[38;5;241m&\u001b[39m (df_uniao[\u001b[38;5;124m'\u001b[39m\u001b[38;5;124mSCORE\u001b[39m\u001b[38;5;124m'\u001b[39m]\u001b[38;5;241m<\u001b[39m\u001b[38;5;241m=\u001b[39m\u001b[38;5;241m.9\u001b[39m),\n\u001b[1;32m     12\u001b[0m     (df_uniao[\u001b[38;5;124m'\u001b[39m\u001b[38;5;124mSCORE\u001b[39m\u001b[38;5;124m'\u001b[39m]\u001b[38;5;241m>\u001b[39m\u001b[38;5;241m.9\u001b[39m)\n\u001b[1;32m     13\u001b[0m ]\n\u001b[1;32m     15\u001b[0m categorias \u001b[38;5;241m=\u001b[39m [\n\u001b[1;32m     16\u001b[0m     \u001b[38;5;124m'\u001b[39m\u001b[38;5;124m0 - 0 a 10\u001b[39m\u001b[38;5;124m%\u001b[39m\u001b[38;5;124m'\u001b[39m,\n\u001b[1;32m     17\u001b[0m     \u001b[38;5;124m'\u001b[39m\u001b[38;5;124m1 - 10 a 20\u001b[39m\u001b[38;5;124m%\u001b[39m\u001b[38;5;124m'\u001b[39m,\n\u001b[0;32m   (...)\u001b[0m\n\u001b[1;32m     25\u001b[0m     \u001b[38;5;124m'\u001b[39m\u001b[38;5;124m9 - 90 a 100\u001b[39m\u001b[38;5;124m%\u001b[39m\u001b[38;5;124m'\u001b[39m,\n\u001b[1;32m     26\u001b[0m ]\n\u001b[1;32m     27\u001b[0m df_uniao[\u001b[38;5;124m'\u001b[39m\u001b[38;5;124mCLASSIFICACAO_SCORE\u001b[39m\u001b[38;5;124m'\u001b[39m] \u001b[38;5;241m=\u001b[39m np\u001b[38;5;241m.\u001b[39mselect(condicoes, categorias, np\u001b[38;5;241m.\u001b[39mnan)\n",
      "File \u001b[0;32m~/.local/lib/python3.8/site-packages/pandas/core/frame.py:3761\u001b[0m, in \u001b[0;36mDataFrame.__getitem__\u001b[0;34m(self, key)\u001b[0m\n\u001b[1;32m   3759\u001b[0m \u001b[38;5;28;01mif\u001b[39;00m \u001b[38;5;28mself\u001b[39m\u001b[38;5;241m.\u001b[39mcolumns\u001b[38;5;241m.\u001b[39mnlevels \u001b[38;5;241m>\u001b[39m \u001b[38;5;241m1\u001b[39m:\n\u001b[1;32m   3760\u001b[0m     \u001b[38;5;28;01mreturn\u001b[39;00m \u001b[38;5;28mself\u001b[39m\u001b[38;5;241m.\u001b[39m_getitem_multilevel(key)\n\u001b[0;32m-> 3761\u001b[0m indexer \u001b[38;5;241m=\u001b[39m \u001b[38;5;28;43mself\u001b[39;49m\u001b[38;5;241;43m.\u001b[39;49m\u001b[43mcolumns\u001b[49m\u001b[38;5;241;43m.\u001b[39;49m\u001b[43mget_loc\u001b[49m\u001b[43m(\u001b[49m\u001b[43mkey\u001b[49m\u001b[43m)\u001b[49m\n\u001b[1;32m   3762\u001b[0m \u001b[38;5;28;01mif\u001b[39;00m is_integer(indexer):\n\u001b[1;32m   3763\u001b[0m     indexer \u001b[38;5;241m=\u001b[39m [indexer]\n",
      "File \u001b[0;32m~/.local/lib/python3.8/site-packages/pandas/core/indexes/base.py:3655\u001b[0m, in \u001b[0;36mIndex.get_loc\u001b[0;34m(self, key)\u001b[0m\n\u001b[1;32m   3653\u001b[0m     \u001b[38;5;28;01mreturn\u001b[39;00m \u001b[38;5;28mself\u001b[39m\u001b[38;5;241m.\u001b[39m_engine\u001b[38;5;241m.\u001b[39mget_loc(casted_key)\n\u001b[1;32m   3654\u001b[0m \u001b[38;5;28;01mexcept\u001b[39;00m \u001b[38;5;167;01mKeyError\u001b[39;00m \u001b[38;5;28;01mas\u001b[39;00m err:\n\u001b[0;32m-> 3655\u001b[0m     \u001b[38;5;28;01mraise\u001b[39;00m \u001b[38;5;167;01mKeyError\u001b[39;00m(key) \u001b[38;5;28;01mfrom\u001b[39;00m \u001b[38;5;21;01merr\u001b[39;00m\n\u001b[1;32m   3656\u001b[0m \u001b[38;5;28;01mexcept\u001b[39;00m \u001b[38;5;167;01mTypeError\u001b[39;00m:\n\u001b[1;32m   3657\u001b[0m     \u001b[38;5;66;03m# If we have a listlike key, _check_indexing_error will raise\u001b[39;00m\n\u001b[1;32m   3658\u001b[0m     \u001b[38;5;66;03m#  InvalidIndexError. Otherwise we fall through and re-raise\u001b[39;00m\n\u001b[1;32m   3659\u001b[0m     \u001b[38;5;66;03m#  the TypeError.\u001b[39;00m\n\u001b[1;32m   3660\u001b[0m     \u001b[38;5;28mself\u001b[39m\u001b[38;5;241m.\u001b[39m_check_indexing_error(key)\n",
      "\u001b[0;31mKeyError\u001b[0m: 'SCORE'"
     ]
    }
   ],
   "source": [
    "# Agora vamos criar a coluna com as faixas de score (Categorização do score)\n",
    "condicoes = [\n",
    "    (df_uniao['SCORE']<= .1),\n",
    "    (df_uniao['SCORE']>.1) & (df_uniao['SCORE']<=.2),\n",
    "    (df_uniao['SCORE']>.2) & (df_uniao['SCORE']<=.3),\n",
    "    (df_uniao['SCORE']>.3) & (df_uniao['SCORE']<=.4),\n",
    "    (df_uniao['SCORE']>.4) & (df_uniao['SCORE']<=.5),\n",
    "    (df_uniao['SCORE']>.5) & (df_uniao['SCORE']<=.6),\n",
    "    (df_uniao['SCORE']>.6) & (df_uniao['SCORE']<=.7),\n",
    "    (df_uniao['SCORE']>.7) & (df_uniao['SCORE']<=.8),\n",
    "    (df_uniao['SCORE']>.8) & (df_uniao['SCORE']<=.9),\n",
    "    (df_uniao['SCORE']>.9)\n",
    "]\n",
    "\n",
    "categorias = [\n",
    "    '0 - 0 a 10%',\n",
    "    '1 - 10 a 20%',\n",
    "    '2 - 20 a 30%',\n",
    "    '3 - 30 a 40%',\n",
    "    '4 - 40 a 50%',\n",
    "    '5 - 50 a 60%',\n",
    "    '6 - 60 a 70%',\n",
    "    '7 - 70 a 80%',\n",
    "    '8 - 80 a 90%',\n",
    "    '9 - 90 a 100%',\n",
    "]\n",
    "df_uniao['CLASSIFICACAO_SCORE'] = np.select(condicoes, categorias, np.nan)\n",
    "df_uniao.info()"
   ]
  },
  {
   "cell_type": "code",
   "execution_count": 11,
   "id": "c4c47546-328b-4d0f-b15b-0d0db1170f7a",
   "metadata": {},
   "outputs": [],
   "source": [
    "df_uniao = df_uniao.drop(['id_atendimento', 'numero_atendimento', 'data_origem_date', 'nome_procedimento'], axis = 1)"
   ]
  },
  {
   "cell_type": "code",
   "execution_count": 12,
   "id": "af2121ba-dced-4a5e-a1f4-96f8eba69f53",
   "metadata": {},
   "outputs": [],
   "source": [
    "df_uniao = df_uniao.rename(columns = {'PREV ANALISADO': 'FL_JA_ANALISADO', 'status_novo': 'STATUS', 'vl_bruto': 'VL_REPASSE', 'motivo_glosa_desc': 'MOTIVO_GLOSA', 'fl_edicao_procedimento':'FL_EDICAO_PROCEDIMENTO', 'diff_apos_edicao': 'DIFF_APOS_EDICAO', 'status_glosa':'STATUS_GLOSA'})"
   ]
  },
  {
   "cell_type": "code",
   "execution_count": 14,
   "id": "b99688e3-8f22-4c84-a816-a2e865d60b1f",
   "metadata": {
    "scrolled": true
   },
   "outputs": [
    {
     "name": "stdout",
     "output_type": "stream",
     "text": [
      "<class 'pandas.core.frame.DataFrame'>\n",
      "RangeIndex: 25052 entries, 0 to 25051\n",
      "Data columns (total 11 columns):\n",
      " #   Column                  Non-Null Count  Dtype  \n",
      "---  ------                  --------------  -----  \n",
      " 0   SCORE                   25052 non-null  float64\n",
      " 1   ID_EVENTO               25052 non-null  int64  \n",
      " 2   ID_ATENDIMENTO          25052 non-null  int64  \n",
      " 3   DATA_SOLICITACAO        25052 non-null  object \n",
      " 4   STATUS                  25052 non-null  object \n",
      " 5   VL_REPASSE              25052 non-null  float64\n",
      " 6   MOTIVO_GLOSA            3803 non-null   object \n",
      " 7   FL_EDICAO_PROCEDIMENTO  25052 non-null  int64  \n",
      " 8   DIFF_APOS_EDICAO        25039 non-null  float64\n",
      " 9   STATUS_GLOSA            3801 non-null   object \n",
      " 10  CLASSIFICACAO_SCORE     25052 non-null  object \n",
      "dtypes: float64(3), int64(3), object(5)\n",
      "memory usage: 2.1+ MB\n"
     ]
    }
   ],
   "source": [
    "df_uniao.info()"
   ]
  },
  {
   "cell_type": "code",
   "execution_count": 15,
   "id": "7da9da7d-a63d-46ee-a5d5-b6cd68808ef0",
   "metadata": {},
   "outputs": [
    {
     "data": {
      "text/plain": [
       "'Arquivo base_poc_com_class_score.csv salvo com sucesso em /mnt/c/Users/anderson.paiva/Downloads/base_poc_com_class_score.csv!!'"
      ]
     },
     "execution_count": 15,
     "metadata": {},
     "output_type": "execute_result"
    }
   ],
   "source": [
    "save_to_csv(df_uniao, path = '/mnt/c/Users/anderson.paiva/Downloads', file_name = 'base_poc_com_class_score')"
   ]
  },
  {
   "cell_type": "markdown",
   "id": "3b0318bc-43c1-4133-bc64-ddeecce2b067",
   "metadata": {},
   "source": [
    "------------------------"
   ]
  }
 ],
 "metadata": {
  "kernelspec": {
   "display_name": "Python 3 (ipykernel)",
   "language": "python",
   "name": "python3"
  },
  "language_info": {
   "codemirror_mode": {
    "name": "ipython",
    "version": 3
   },
   "file_extension": ".py",
   "mimetype": "text/x-python",
   "name": "python",
   "nbconvert_exporter": "python",
   "pygments_lexer": "ipython3",
   "version": "3.8.10"
  }
 },
 "nbformat": 4,
 "nbformat_minor": 5
}
