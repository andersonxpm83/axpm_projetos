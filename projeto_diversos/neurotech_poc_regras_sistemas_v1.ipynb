{
 "cells": [
  {
   "cell_type": "code",
   "execution_count": 1,
   "id": "27ff1bd4-b15f-4f7d-9d9e-c6d8a886f9b8",
   "metadata": {},
   "outputs": [],
   "source": [
    "from golden import *\n",
    "import pandas as pd\n",
    "import numpy as np\n",
    "import os"
   ]
  },
  {
   "cell_type": "code",
   "execution_count": 2,
   "id": "35af2bfe-9182-4d2b-a1f3-2f3eb137517f",
   "metadata": {},
   "outputs": [],
   "source": [
    "df_poc_class_score = pd.read_csv('/mnt/c/Users/anderson.paiva/Documents/03.3 Squad Saúde/Projeto Neurotech/base_poc_com_class_score.csv')"
   ]
  },
  {
   "cell_type": "code",
   "execution_count": null,
   "id": "bf9bd6eb-2013-403e-94ef-acfb7b284777",
   "metadata": {},
   "outputs": [],
   "source": [
    "df_poc_class_score.info()"
   ]
  },
  {
   "cell_type": "code",
   "execution_count": 3,
   "id": "caf445af-f71d-48af-8b78-c7c781b06342",
   "metadata": {},
   "outputs": [
    {
     "name": "stderr",
     "output_type": "stream",
     "text": [
      "/home/andersonxpm/.local/lib/python3.8/site-packages/google/auth/_default.py:70: UserWarning: Your application has authenticated using end user credentials from Google Cloud SDK without a quota project. You might receive a \"quota exceeded\" or \"API not enabled\" error. We recommend you rerun `gcloud auth application-default login` and make sure a quota project is added. Or you can use service accounts instead. For more information about service accounts, see https://cloud.google.com/docs/authentication/\n",
      "  warnings.warn(_CLOUD_SDK_CREDENTIALS_WARNING)\n"
     ]
    },
    {
     "name": "stdout",
     "output_type": "stream",
     "text": [
      "Quer matar o Cesar????\n"
     ]
    },
    {
     "data": {
      "text/plain": [
       "'1.28 GB'"
      ]
     },
     "execution_count": 3,
     "metadata": {},
     "output_type": "execute_result"
    }
   ],
   "source": [
    "# Iniciando o client para acessar o BQ\n",
    "client_bq = config_client('prod')\n",
    "\n",
    "# Verificando se o client está conectado\n",
    "check_client_connection(client_bq)\n",
    "\n",
    "# Declarando a query que vamos utilizar\n",
    "query = \"\"\"\n",
    "select\n",
    "  coalesce(pt.user_pet_id, 0) as user_pet_id,\n",
    "  coalesce(ustp.id, 0) as id_atendimento,\n",
    "  coalesce(ust.id, 0) as id_procedimentos,\n",
    "  coalesce(pnf.st_display_name, 'NA') as nome_procedimento,\n",
    "  coalesce(pt.vl_amount, 0) as vl_amount,\n",
    "  coalesce(pt.vl_coparticipation, 0) as vl_coparticipation,\n",
    "  coalesce(pt.clinic_id, 0) as clinic_id,\n",
    "  coalesce(pt.is_under_analysis, 0) as is_under_analysis,\n",
    "  coalesce(pt.refuse_procedure_id, 0) as refuse_procedure_id, \n",
    "  coalesce(pt.refused_value, 0) as refused_value,\n",
    "  coalesce(pt.review_status, 0) as review_status,\n",
    "  coalesce(pt.under_analysis_reason, 'NA') as under_analysis_reason,\n",
    "  coalesce(rp.reason, 'NA') as reason,\n",
    "  coalesce(pt.user_observation, 'NA') as user_observation,\n",
    "  coalesce(pt.dt_created_at, '2000-01-01') as dt_created_at\n",
    "from `curated_health.health_partner_transfer` pt\n",
    "left join `petlove-dataeng-prod-01.curated_health.health_user_pet_treatment_procedure` ustp \n",
    "  on ustp.id = pt.user_pet_treatment_procedure_id\n",
    "  and ustp.refdate <= current_date\n",
    "left join `petlove-dataeng-prod-01.curated_health.health_procedure_nf` pnf\n",
    "  on pnf.id = ustp.procedure_nf_id\n",
    "  and pnf.refdate <= current_date\n",
    "left join `petlove-dataeng-prod-01.curated_health.health_user_pet_treatment` ust\n",
    "  on ust.id = ustp.user_pet_treatment_id\n",
    "  and ust.refdate <= current_date\n",
    "left join `curated_health.health_refuse_procedure` rp \n",
    "  on pt.refuse_procedure_id = rp.id\n",
    "  and rp.refdate <= current_date\n",
    "where 1=1\n",
    "  and pt.refdate <= current_date\n",
    "  and pt.dt_created_at between '2023-11-01' and '2024-03-31'\n",
    "\"\"\"\n",
    "\n",
    "query_bytes(query, client_bq)"
   ]
  },
  {
   "cell_type": "code",
   "execution_count": 4,
   "id": "8272f1e0-1e39-4f6b-baf9-99c66bf9317e",
   "metadata": {},
   "outputs": [
    {
     "name": "stdout",
     "output_type": "stream",
     "text": [
      "Quer matar o Cesar????\n",
      "Esta consulta processará 1.28 GB.\n"
     ]
    },
    {
     "name": "stdin",
     "output_type": "stream",
     "text": [
      "Deseja executar a consulta? (Y/N) Y\n"
     ]
    },
    {
     "name": "stdout",
     "output_type": "stream",
     "text": [
      "Iniciando query\n",
      "Iniciando a consulta: 2024-09-07 10:42:37\n",
      "Consulta concluída: 2024-09-07 10:47:22\n",
      "Duração da consulta: 0:04:44.934419\n"
     ]
    }
   ],
   "source": [
    "df_regras_sistemas = run_query(query, client_bq)"
   ]
  },
  {
   "cell_type": "code",
   "execution_count": 5,
   "id": "fc05a8ff-cb79-4101-be14-252d26a70efc",
   "metadata": {},
   "outputs": [
    {
     "name": "stdout",
     "output_type": "stream",
     "text": [
      "<class 'pandas.core.frame.DataFrame'>\n",
      "RangeIndex: 2184508 entries, 0 to 2184507\n",
      "Data columns (total 15 columns):\n",
      " #   Column                 Dtype         \n",
      "---  ------                 -----         \n",
      " 0   user_pet_id            int64         \n",
      " 1   id_atendimento         int64         \n",
      " 2   id_procedimentos       int64         \n",
      " 3   nome_procedimento      object        \n",
      " 4   vl_amount              float64       \n",
      " 5   vl_coparticipation     float64       \n",
      " 6   clinic_id              int64         \n",
      " 7   is_under_analysis      int64         \n",
      " 8   refuse_procedure_id    int64         \n",
      " 9   refused_value          float64       \n",
      " 10  review_status          int64         \n",
      " 11  under_analysis_reason  object        \n",
      " 12  reason                 object        \n",
      " 13  user_observation       object        \n",
      " 14  dt_created_at          datetime64[us]\n",
      "dtypes: datetime64[us](1), float64(3), int64(7), object(4)\n",
      "memory usage: 250.0+ MB\n"
     ]
    }
   ],
   "source": [
    "df_regras_sistemas.info()"
   ]
  },
  {
   "cell_type": "code",
   "execution_count": 6,
   "id": "cee0bc54-1bda-4a51-aa18-cf679caa05f4",
   "metadata": {},
   "outputs": [],
   "source": [
    "df_poc_score_regras = pd.merge(df_poc_class_score, right = df_regras_sistemas, how = 'left', left_on = 'ID_EVENTO', right_on = 'id_atendimento')"
   ]
  },
  {
   "cell_type": "code",
   "execution_count": 7,
   "id": "d36c0ad4-4f8d-442a-b09c-e35061c90a55",
   "metadata": {},
   "outputs": [
    {
     "name": "stdout",
     "output_type": "stream",
     "text": [
      "<class 'pandas.core.frame.DataFrame'>\n",
      "RangeIndex: 25053 entries, 0 to 25052\n",
      "Data columns (total 26 columns):\n",
      " #   Column                  Non-Null Count  Dtype         \n",
      "---  ------                  --------------  -----         \n",
      " 0   SCORE                   25053 non-null  float64       \n",
      " 1   ID_EVENTO               25053 non-null  int64         \n",
      " 2   ID_ATENDIMENTO          25053 non-null  int64         \n",
      " 3   DATA_SOLICITACAO        25053 non-null  object        \n",
      " 4   STATUS                  25053 non-null  object        \n",
      " 5   VL_REPASSE              25053 non-null  float64       \n",
      " 6   MOTIVO_GLOSA            3803 non-null   object        \n",
      " 7   FL_EDICAO_PROCEDIMENTO  25053 non-null  int64         \n",
      " 8   DIFF_APOS_EDICAO        25040 non-null  float64       \n",
      " 9   STATUS_GLOSA            3801 non-null   object        \n",
      " 10  CLASSIFICACAO_SCORE     25053 non-null  object        \n",
      " 11  user_pet_id             25053 non-null  int64         \n",
      " 12  id_atendimento          25053 non-null  int64         \n",
      " 13  id_procedimentos        25053 non-null  int64         \n",
      " 14  nome_procedimento       25053 non-null  object        \n",
      " 15  vl_amount               25053 non-null  float64       \n",
      " 16  vl_coparticipation      25053 non-null  float64       \n",
      " 17  clinic_id               25053 non-null  int64         \n",
      " 18  is_under_analysis       25053 non-null  int64         \n",
      " 19  refuse_procedure_id     25053 non-null  int64         \n",
      " 20  refused_value           25053 non-null  float64       \n",
      " 21  review_status           25053 non-null  int64         \n",
      " 22  under_analysis_reason   25053 non-null  object        \n",
      " 23  reason                  25053 non-null  object        \n",
      " 24  user_observation        25053 non-null  object        \n",
      " 25  dt_created_at           25053 non-null  datetime64[us]\n",
      "dtypes: datetime64[us](1), float64(6), int64(10), object(9)\n",
      "memory usage: 5.0+ MB\n"
     ]
    }
   ],
   "source": [
    "df_poc_score_regras.info()"
   ]
  },
  {
   "cell_type": "code",
   "execution_count": 8,
   "id": "13ec347b-0526-4564-a3a3-a46be086852a",
   "metadata": {},
   "outputs": [
    {
     "data": {
      "text/plain": [
       "'Arquivo poc_score_regras_20240907.csv salvo com sucesso em /mnt/c/Users/anderson.paiva/Downloads/poc_score_regras_20240907.csv!!'"
      ]
     },
     "execution_count": 8,
     "metadata": {},
     "output_type": "execute_result"
    }
   ],
   "source": [
    "save_to_csv(df_poc_score_regras, path = '/mnt/c/Users/anderson.paiva/Downloads', file_name = 'poc_score_regras_20240907')"
   ]
  },
  {
   "cell_type": "code",
   "execution_count": null,
   "id": "48d6a496-dcf2-4073-a32a-9a1d037394a8",
   "metadata": {},
   "outputs": [],
   "source": [
    "df_poc_score_regras_vf = df_poc_score_regras[['SCORE',\n",
    "                                              'ID_EVENTO',\n",
    "                                              'ID_ATENDIMENTO',\n",
    "                                              'DATA_SOLICITACAO',\n",
    "                                              'VL_REPASSE',\n",
    "                                              'MOTIVO_GLOSA',\n",
    "                                              'FL_EDICAO_PROCEDIMENTO',\n",
    "                                              'status_novo_y',\n",
    "                                              'DIFF_APOS_EDICAO',\n",
    "                                              '',\n",
    "                                              '',\n",
    "                                              '',\n",
    "                                              '',\n",
    "                                              '',\n",
    "                                              '',\n",
    "                                              '',\n",
    "                                              '',\n",
    "                                              '',\n",
    "                                             ]]"
   ]
  },
  {
   "cell_type": "code",
   "execution_count": null,
   "id": "dca4ed4f-68c8-491b-a1ca-0daafd6ad526",
   "metadata": {},
   "outputs": [],
   "source": [
    "df_final"
   ]
  },
  {
   "cell_type": "code",
   "execution_count": null,
   "id": "98fc3bff-981e-4e3a-ae93-809c69a5aafa",
   "metadata": {},
   "outputs": [],
   "source": [
    "# Agora vamos criar a coluna com as faixas de score (Categorização do score)\n",
    "condicoes = [\n",
    "    (df_uniao['SCORE']<= .1),\n",
    "    (df_uniao['SCORE']>.1) & (df_uniao['SCORE']<=.2),\n",
    "    (df_uniao['SCORE']>.2) & (df_uniao['SCORE']<=.3),\n",
    "    (df_uniao['SCORE']>.3) & (df_uniao['SCORE']<=.4),\n",
    "    (df_uniao['SCORE']>.4) & (df_uniao['SCORE']<=.5),\n",
    "    (df_uniao['SCORE']>.5) & (df_uniao['SCORE']<=.6),\n",
    "    (df_uniao['SCORE']>.6) & (df_uniao['SCORE']<=.7),\n",
    "    (df_uniao['SCORE']>.7) & (df_uniao['SCORE']<=.8),\n",
    "    (df_uniao['SCORE']>.8) & (df_uniao['SCORE']<=.9),\n",
    "    (df_uniao['SCORE']>.9)\n",
    "]\n",
    "\n",
    "categorias = [\n",
    "    '0 - 0 a 10%',\n",
    "    '1 - 10 a 20%',\n",
    "    '2 - 20 a 30%',\n",
    "    '3 - 30 a 40%',\n",
    "    '4 - 40 a 50%',\n",
    "    '5 - 50 a 60%',\n",
    "    '6 - 60 a 70%',\n",
    "    '7 - 70 a 80%',\n",
    "    '8 - 80 a 90%',\n",
    "    '9 - 90 a 100%',\n",
    "]\n",
    "df_uniao['CLASSIFICACAO_SCORE'] = np.select(condicoes, categorias, np.nan)\n",
    "df_uniao.info()"
   ]
  },
  {
   "cell_type": "code",
   "execution_count": null,
   "id": "c4c47546-328b-4d0f-b15b-0d0db1170f7a",
   "metadata": {},
   "outputs": [],
   "source": [
    "df_uniao = df_uniao.drop(['id_atendimento', 'numero_atendimento', 'data_origem_date', 'nome_procedimento'], axis = 1)"
   ]
  },
  {
   "cell_type": "code",
   "execution_count": null,
   "id": "af2121ba-dced-4a5e-a1f4-96f8eba69f53",
   "metadata": {},
   "outputs": [],
   "source": [
    "df_uniao = df_uniao.rename(columns = {'PREV ANALISADO': 'FL_JA_ANALISADO', 'status_novo': 'STATUS', 'vl_bruto': 'VL_REPASSE', 'motivo_glosa_desc': 'MOTIVO_GLOSA', 'fl_edicao_procedimento':'FL_EDICAO_PROCEDIMENTO', 'diff_apos_edicao': 'DIFF_APOS_EDICAO', 'status_glosa':'STATUS_GLOSA'})"
   ]
  },
  {
   "cell_type": "code",
   "execution_count": null,
   "id": "b99688e3-8f22-4c84-a816-a2e865d60b1f",
   "metadata": {
    "scrolled": true
   },
   "outputs": [],
   "source": [
    "df_uniao.info()"
   ]
  },
  {
   "cell_type": "code",
   "execution_count": null,
   "id": "7da9da7d-a63d-46ee-a5d5-b6cd68808ef0",
   "metadata": {},
   "outputs": [],
   "source": [
    "save_to_csv(df_uniao, path = '/mnt/c/Users/anderson.paiva/Downloads', file_name = 'base_poc_com_class_score')"
   ]
  },
  {
   "cell_type": "markdown",
   "id": "3b0318bc-43c1-4133-bc64-ddeecce2b067",
   "metadata": {},
   "source": [
    "------------------------"
   ]
  }
 ],
 "metadata": {
  "kernelspec": {
   "display_name": "Python 3 (ipykernel)",
   "language": "python",
   "name": "python3"
  },
  "language_info": {
   "codemirror_mode": {
    "name": "ipython",
    "version": 3
   },
   "file_extension": ".py",
   "mimetype": "text/x-python",
   "name": "python",
   "nbconvert_exporter": "python",
   "pygments_lexer": "ipython3",
   "version": "3.8.10"
  }
 },
 "nbformat": 4,
 "nbformat_minor": 5
}
