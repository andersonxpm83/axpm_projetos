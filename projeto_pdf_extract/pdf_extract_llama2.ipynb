{
 "cells": [
  {
   "cell_type": "code",
   "execution_count": null,
   "metadata": {},
   "outputs": [],
   "source": [
    "python -m pip install --upgrade certifi"
   ]
  },
  {
   "cell_type": "code",
   "execution_count": 1,
   "metadata": {},
   "outputs": [],
   "source": [
    "import fitz  # PyMuPDF\n",
    "import requests\n",
    "import os\n",
    "from dotenv import load_dotenv"
   ]
  },
  {
   "cell_type": "code",
   "execution_count": 2,
   "metadata": {},
   "outputs": [],
   "source": [
    "import certifi\n",
    "import ssl\n",
    "\n",
    "ssl._create_default_https_context = ssl.create_default_context(cafile=certifi.where())"
   ]
  },
  {
   "cell_type": "code",
   "execution_count": 7,
   "metadata": {},
   "outputs": [],
   "source": [
    "# Carregar variáveis do arquivo .env\n",
    "load_dotenv()\n",
    "API_KEY = os.getenv(\"HUGGINGFACE_API_KEY\")\n",
    "\n",
    "# Modelo do Llama 2 no Hugging Face\n",
    "MODEL = \"mistralai/Mistral-7B-Instruct\"\n",
    "API_URL = f\"https://api-inference.huggingface.co/models/{MODEL}\"\n",
    "\n",
    "# Configuração do cabeçalho para a requisição\n",
    "headers = {\"Authorization\": f\"Bearer {API_KEY}\"}"
   ]
  },
  {
   "cell_type": "code",
   "execution_count": 8,
   "metadata": {},
   "outputs": [],
   "source": [
    "# Função para extrair texto de um arquivo PDF\n",
    "def extract_text_from_pdf(pdf_path):\n",
    "    try:\n",
    "        with fitz.open(pdf_path) as doc:  # Abrir o PDF\n",
    "            text = \"\"\n",
    "            for page in doc:\n",
    "                text += page.get_text(\"text\") + \"\\n\"  # Extrair texto de cada página\n",
    "        return text.strip()\n",
    "    except Exception as e:\n",
    "        return f\"Erro ao ler o PDF: {str(e)}\""
   ]
  },
  {
   "cell_type": "code",
   "execution_count": 9,
   "metadata": {},
   "outputs": [],
   "source": [
    "# Função para processar texto usando a API do Hugging Face\n",
    "def process_text_with_llama2(text):\n",
    "    payload = {\"inputs\": text}\n",
    "    response = requests.post(API_URL, headers=headers, json=payload)\n",
    "    \n",
    "    if response.status_code == 200:\n",
    "        return response.json()[0][\"generated_text\"]\n",
    "    else:\n",
    "        return f\"Erro na API: {response.status_code}, {response.text}\""
   ]
  },
  {
   "cell_type": "code",
   "execution_count": 10,
   "metadata": {},
   "outputs": [
    {
     "name": "stdout",
     "output_type": "stream",
     "text": [
      "✅ Extração concluída! Resposta salva em 'resultado.txt'.\n"
     ]
    }
   ],
   "source": [
    "# Caminho do arquivo PDF\n",
    "pdf_path = \"/Users/anderson.paiva/Downloads/exames.pdf\"  # Substitua pelo nome do seu arquivo\n",
    "\n",
    "# Extrair texto do PDF\n",
    "extracted_text = extract_text_from_pdf(pdf_path)\n",
    "\n",
    "# Enviar para o Llama 2 e obter resposta\n",
    "response_text = process_text_with_llama2(extracted_text)\n",
    "\n",
    "# Salvar o resultado em um arquivo de texto\n",
    "with open(\"resultado.txt\", \"w\", encoding=\"utf-8\") as f:\n",
    "    f.write(response_text)\n",
    "\n",
    "print(\"✅ Extração concluída! Resposta salva em 'resultado.txt'.\")"
   ]
  }
 ],
 "metadata": {
  "kernelspec": {
   "display_name": "Python 3",
   "language": "python",
   "name": "python3"
  },
  "language_info": {
   "codemirror_mode": {
    "name": "ipython",
    "version": 3
   },
   "file_extension": ".py",
   "mimetype": "text/x-python",
   "name": "python",
   "nbconvert_exporter": "python",
   "pygments_lexer": "ipython3",
   "version": "3.13.1"
  }
 },
 "nbformat": 4,
 "nbformat_minor": 2
}
