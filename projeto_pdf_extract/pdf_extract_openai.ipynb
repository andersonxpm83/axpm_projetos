{
 "cells": [
  {
   "cell_type": "code",
   "execution_count": null,
   "metadata": {},
   "outputs": [],
   "source": [
    "# Instalar o pacotes quando necessário\n",
    "pip install tiktoken"
   ]
  },
  {
   "cell_type": "code",
   "execution_count": 1,
   "metadata": {},
   "outputs": [],
   "source": [
    "# Carregar os pacotes necessários\n",
    "import os\n",
    "import openai\n",
    "import pypdf\n",
    "import pandas as pd\n",
    "from dotenv import load_dotenv\n",
    "from dotenv import dotenv_values\n",
    "import certifi\n",
    "import ssl\n",
    "import tiktoken"
   ]
  },
  {
   "cell_type": "code",
   "execution_count": 8,
   "metadata": {},
   "outputs": [],
   "source": [
    "# Carregar certificado SSL\n",
    "ssl._create_default_https_context = ssl.create_default_context(cafile=certifi.where())"
   ]
  },
  {
   "cell_type": "code",
   "execution_count": 2,
   "metadata": {},
   "outputs": [],
   "source": [
    "# Carregar variáveis de ambiente\n",
    "load_dotenv()\n",
    "\n",
    "# Obter a chave da API\n",
    "openai.api_key = os.getenv(\"OPENAI_API_KEY\")\n",
    "\n",
    "# Verificar se a chave foi carregada corretamente\n",
    "if not openai.api_key:\n",
    "    raise ValueError(\"A chave da API não foi carregada. Verifique o arquivo .env\")"
   ]
  },
  {
   "cell_type": "code",
   "execution_count": 3,
   "metadata": {},
   "outputs": [],
   "source": [
    "# Função que extrai texto de um PDF\n",
    "def extract_text_from_pdf(pdf_path):\n",
    "    \"\"\"Extrai texto de um PDF.\"\"\"\n",
    "    reader = pypdf.PdfReader(pdf_path)\n",
    "    text = \"\\n\".join([page.extract_text() for page in reader.pages if page.extract_text()])\n",
    "    return text.strip()"
   ]
  },
  {
   "cell_type": "code",
   "execution_count": 4,
   "metadata": {},
   "outputs": [],
   "source": [
    "# Função que envia o texto para a OpenAI e retorna a análise\n",
    "def analyze_text_with_openai(text):\n",
    "    \"\"\"Envia o texto para a OpenAI e retorna a análise.\"\"\"\n",
    "    response = openai.ChatCompletion.create(\n",
    "        model=\"gpt-3.5-turbo\",\n",
    "        messages=[\n",
    "            {\"role\": \"system\", \"content\": \"Extraia as informações mais relevantes do texto.\"},\n",
    "            {\"role\": \"user\", \"content\": text}\n",
    "        ]\n",
    "    )\n",
    "    return response[\"choices\"][0][\"message\"][\"content\"]"
   ]
  },
  {
   "cell_type": "code",
   "execution_count": 5,
   "metadata": {},
   "outputs": [],
   "source": [
    "# Função que salva a saída em um arquivo TXT\n",
    "def save_output_as_txt(output_text, output_file=\"output.txt\"):\n",
    "    \"\"\"Salva a saída em um arquivo TXT.\"\"\"\n",
    "    with open(output_file, \"w\", encoding=\"utf-8\") as file:\n",
    "        file.write(output_text)\n",
    "    print(f\"✅ Resultado salvo em {output_file}\")\n",
    "\n",
    "# Função que salva a saída em um arquivo CSV\n",
    "def save_output_as_csv(output_text, output_file=\"output.csv\"):\n",
    "    \"\"\"Salva a saída em um arquivo CSV.\"\"\"\n",
    "    df = pd.DataFrame({\"Informações Extraídas\": [output_text]})\n",
    "    df.to_csv(output_file, index=False, encoding=\"utf-8\")\n",
    "    print(f\"✅ Resultado salvo em {output_file}\")"
   ]
  },
  {
   "cell_type": "code",
   "execution_count": 6,
   "metadata": {},
   "outputs": [
    {
     "name": "stdout",
     "output_type": "stream",
     "text": [
      "📖 Lendo o PDF...\n",
      "🚀 Enviando para OpenAI...\n",
      "✅ Resultado salvo em output.txt\n",
      "✅ Resultado salvo em output.csv\n",
      "\n",
      "📌 Informações Extraídas:\n",
      "- O documento apresenta um pedido de exames médicos realizado pelo paciente Anderson Xavier de Paiva Mello, assinado digitalmente pela Dra. Rosiane Aparecida Turim Gomes Pinho, com CRM 185007 SP.\n",
      "- Dentre os exames solicitados, destacam-se hemograma completo, colesterol total, glicemia em jejum, hormônio tireoestimulante (TSH), creatinina, entre outros. Além disso, inclui exames como Proteína C reativa, VDRL, HBsAg, Anti-HIV 1 e 2, Anti-HCV, entre outros.\n",
      "- Também foi solicitada uma radiografia de tórax com 2 incidências, além de um exame de rotina de urina com urocultura.\n",
      "- O acesso à receita digital via QR Code e a validação da assinatura do documento podem ser feitas por meio do link https://validador.memed.com.br utilizando o Token: RfpgQt.\n",
      "- O paciente possui o CPF 314.596.618-93 e o endereço fornecido para o exame é Rua Dona Adma Jafet 91.\n",
      "- O código de desbloqueio para a farmácia é 4256.\n"
     ]
    }
   ],
   "source": [
    "# Caminho do arquivo PDF\n",
    "pdf_path = \"/Users/anderson.paiva/Downloads/exames.pdf\"  # Altere para o caminho do seu PDF\n",
    "\n",
    "if not os.path.exists(pdf_path):\n",
    "    print(f\"Arquivo {pdf_path} não encontrado!\")\n",
    "else:\n",
    "    print(\"📖 Lendo o PDF...\")\n",
    "    text = extract_text_from_pdf(pdf_path)\n",
    "    \n",
    "    if text:\n",
    "        print(\"🚀 Enviando para OpenAI...\")\n",
    "        extracted_info = analyze_text_with_openai(text)\n",
    "\n",
    "        # Salvar os resultados\n",
    "        save_output_as_txt(extracted_info)\n",
    "        save_output_as_csv(extracted_info)\n",
    "\n",
    "        # Exibir saída no Notebook\n",
    "        print(\"\\n📌 Informações Extraídas:\")\n",
    "        print(extracted_info)\n",
    "    else:\n",
    "        print(\"❌ Não foi possível extrair texto do PDF.\")"
   ]
  },
  {
   "cell_type": "code",
   "execution_count": null,
   "metadata": {},
   "outputs": [
    {
     "name": "stdout",
     "output_type": "stream",
     "text": [
      "Número de tokens no arquivo: 277\n"
     ]
    }
   ],
   "source": []
  },
  {
   "cell_type": "code",
   "execution_count": 10,
   "metadata": {},
   "outputs": [
    {
     "name": "stdout",
     "output_type": "stream",
     "text": [
      "Número de tokens no arquivo: 277\n",
      "Custo para gpt-4-turbo: $0.00831\n",
      "Custo para gpt-4: $0.01662\n",
      "Custo para gpt-3.5-turbo: $0.000554\n",
      "Custo para text-davinci-003: $0.00554\n",
      "Custo para code-davinci-002: $0.00554\n"
     ]
    }
   ],
   "source": [
    "# Dicionário com preços dos modelos\n",
    "precos_modelos = {\n",
    "    \"gpt-4-turbo\": (0.01, 0.03),\n",
    "    \"gpt-4\": (0.03, 0.06),\n",
    "    \"gpt-3.5-turbo\": (0.0015, 0.002),\n",
    "    \"text-davinci-003\": (0.02, 0.02),\n",
    "    \"code-davinci-002\": (0.02, 0.02),\n",
    "}\n",
    "\n",
    "# Função que conta o número de tokens de um arquivo\n",
    "def contar_tokens_arquivo(caminho_arquivo, modelo=\"gpt-3.5-turbo\"):\n",
    "\n",
    "    encoding = tiktoken.encoding_for_model(modelo)\n",
    "\n",
    "    with open(caminho_arquivo, \"r\", encoding=\"utf-8\") as f:\n",
    "        texto = f.read()\n",
    "\n",
    "    return len(encoding.encode(texto))\n",
    "\n",
    "# Função que calcula o custo de um arquivo\n",
    "def calcular_custo(tokens_saida):\n",
    "    \"\"\" Calcula o custo baseado no número de tokens de saída para todos os modelos. \"\"\"\n",
    "    custos = {}\n",
    "    for modelo, (preco_entrada, preco_saida) in precos_modelos.items():\n",
    "        custo_total = (tokens_saida / 1000) * preco_saida  # Apenas saída, assumindo que já está gerado\n",
    "        custos[modelo] = round(custo_total, 6)  # Arredondando para 6 casas decimais\n",
    "    \n",
    "    return custos\n",
    "\n",
    "# Caminho do arquivo de saída\n",
    "caminho_arquivo = \"/Users/anderson.paiva/Documents/GitHub/axpm_projetos_dados/projeto_pdf_extract/output.txt\"\n",
    "\n",
    "# Contar tokens do arquivo\n",
    "tokens_saida = contar_tokens_arquivo(caminho_arquivo)\n",
    "\n",
    "# Calcular custo para cada modelo\n",
    "custos = calcular_custo(tokens_saida)\n",
    "\n",
    "# Exibir os custos\n",
    "print(f\"Número de tokens no arquivo: {tokens_saida}\")\n",
    "for modelo, custo in custos.items():\n",
    "    print(f\"Custo para {modelo}: ${custo}\")"
   ]
  }
 ],
 "metadata": {
  "kernelspec": {
   "display_name": "Python 3",
   "language": "python",
   "name": "python3"
  },
  "language_info": {
   "codemirror_mode": {
    "name": "ipython",
    "version": 3
   },
   "file_extension": ".py",
   "mimetype": "text/x-python",
   "name": "python",
   "nbconvert_exporter": "python",
   "pygments_lexer": "ipython3",
   "version": "3.13.1"
  }
 },
 "nbformat": 4,
 "nbformat_minor": 2
}
